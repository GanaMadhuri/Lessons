{
 "cells": [
  {
   "cell_type": "markdown",
   "metadata": {},
   "source": [
    "# Data types & data structures\n",
    "\n",
    "<img src=\"https://www.continuum.io/sites/default/files/Continuum-Wordmark.png\">\n",
    "This material is all available at: http://j.mp/academy-intro-saleswk"
   ]
  },
  {
   "cell_type": "markdown",
   "metadata": {},
   "source": [
    "Table of Contents\n",
    "----------------\n",
    "* [Data types & data structures](#Data-types-&-data-structures)\n",
    "* [Learning Objectives:](#Learning-Objectives:)\n",
    "\t* [Some comments on pedagogical style](#Some-comments-on-pedagogical-style)\n",
    "* [`None` object](#None-object)\n",
    "* [Numeric types](#Numeric-types)\n",
    "\t* [`bool` (boolean) type](#bool-%28boolean%29-type)\n",
    "\t* [`int` (integer) type](#int-%28integer%29-type)\n",
    "\t* [`float` (floating-point number) type](#float-%28floating-point-number%29-type)\n",
    "\t* [`complex` (complex number) type](#complex-%28complex-number%29-type)\n",
    "* [`str` (string) type](#str-%28string%29-type)\n",
    "\t* [String methods](#String-methods)\n",
    "\t* [String indexing](#String-indexing)\n",
    "\t\t* [Immutability of Python `str` type](#Immutability-of-Python-str-type)\n",
    "\t* [String slicing](#String-slicing)\n",
    "\t* [String conversions and `format`](#String-conversions-and-format)\n",
    "\t\t* [Format strings (old-style)](#Format-strings-%28old-style%29)\n",
    "\t\t* [The `str.format()` mini-language](#The-str.format%28%29-mini-language)\n",
    "\t\t* [Details on the `str.format()` mini-language](#Details-on-the-str.format%28%29-mini-language)\n",
    "* [Data structures](#Data-structures)\n",
    "\t* [`tuple` type](#tuple-type)\n",
    "\t* [`list` type](#list-type)\n",
    "\t\t* [Iteration over a collection](#Iteration-over-a-collection)\n",
    "\t* [`dict` (dictionary) type](#dict-%28dictionary%29-type)\n",
    "\t* [`set` type](#set-type)\n",
    "* [Data types from the Python Standard Library](#Data-types-from-the-Python-Standard-Library)\n",
    "\t* [`datetime` module](#datetime-module)\n",
    "\t* [`collections` module](#collections-module)\n",
    "\t\t* [`collections.namedtuple`](#collections.namedtuple)\n",
    "\t\t* [`collections.OrderedDict`](#collections.OrderedDict)\n",
    "\t* [`decimal` module](#decimal-module)\n",
    "\t* [`fractions` module](#fractions-module)\n"
   ]
  },
  {
   "cell_type": "markdown",
   "metadata": {},
   "source": [
    "**Developed by**\n",
    "\n",
    "* David Mertz &lt;[dmertz@continuum.io](mailto:dmertz@continuum.io)&gt;\n",
    "* Dhavide Aruliah &lt;[daruliah@continuum.io](mailto:daruliah@continuum.io)&gt;\n",
    "\n",
    "**Taught by**\n",
    "\n",
    "* David Mertz"
   ]
  },
  {
   "cell_type": "markdown",
   "metadata": {},
   "source": [
    "# Learning Objectives:"
   ]
  },
  {
   "cell_type": "markdown",
   "metadata": {},
   "source": [
    "After completion of this module, learners should be able to:\n",
    "    \n",
    "* use & distinguish builtin Python numeric types: `bool`, `int`, `float`, `complex`\n",
    "* use & distinguish builtin Python data collections: `list`, `tuple`, `dict`, `set`\n",
    "* apply the `str.format` mini-language to generate formatted output\n",
    "* use & explain Python rules for type conversion & casting (e.g., combining operators & types)\n",
    "* apply common methods associated with builtin Python data types\n",
    "* use `help` (and other documentation) to learn about methods associated with builtin types\n",
    "* apply Python rules for indexing & slicing strings, lists, & tuples\n",
    "* apply Python idioms for looping over builtin data collections\n",
    "* explain the distinction between *mutable* and *immutable* objects\n",
    "* import & apply common extensions to Python builtin data types (e.g., `datetime`, `collections`, etc.)"
   ]
  },
  {
   "cell_type": "markdown",
   "metadata": {},
   "source": [
    "## Some comments on pedagogical style"
   ]
  },
  {
   "cell_type": "markdown",
   "metadata": {},
   "source": [
    "For the most part, we will introduce new concepts incrementally. Sometimes examples will deliberately introduce something you haven't seen yet with suggestions of how to proceed. You can probably guess what these new constructs are doing along the way, but if they are unclear, **please** stop and ask for more information.  \n",
    "\n",
    "Even if you think you understand&mdash;either something covered explicitly, or something thrown in early&mdash;and would like to play with that construct some more, *let's do it!* The great thing about Notebooks (and about the Python interactive shell itself) is that we can play around, try things out, interactively discover options, and so on. We'll learn this material *together,* and experimentation and exploration is a much better way to learn than passive observation. \n",
    "\n",
    "* Discussion mixed with exercises\n",
    "* Please ask questions\n",
    "* Don't hesitate to ask for more detail"
   ]
  },
  {
   "cell_type": "markdown",
   "metadata": {},
   "source": [
    "<hr/>\n",
    "This tutorial, and Python in general, run more smoothly under Python 3.x.\n",
    "\n",
    "Whether you're running on Python 2 or Python 3, please install [Python-Future](http://python-future.org/futurize.html):\n",
    "```bash\n",
    "conda install future\n",
    "```"
   ]
  },
  {
   "cell_type": "code",
   "execution_count": null,
   "metadata": {},
   "outputs": [],
   "source": [
    "from __future__ import (absolute_import, division,\n",
    "                        print_function, unicode_literals)\n",
    "from future import standard_library\n",
    "standard_library.install_aliases()\n",
    "from future.builtins import (\n",
    "         bytes, dict, int, list, object, range, str,\n",
    "         ascii, chr, hex, input, next, oct, open,\n",
    "         pow, round, super, filter, map, zip)"
   ]
  },
  {
   "cell_type": "markdown",
   "metadata": {
    "collapsed": true
   },
   "source": [
    "# `None` object"
   ]
  },
  {
   "cell_type": "markdown",
   "metadata": {},
   "source": [
    "Not really a data structure, but the special value `None` in Python is often used where `NULL` or `nil` or `Nothing` are used in other languages.  It is a frequent placeholder to say, \"We don't yet know how to handle this item, but we know to check whether it *is* `None`.\"  Hence code like this is common:\n",
    "\n",
    "```python\n",
    "for item in collection:\n",
    "    if item is not None:\n",
    "        process(item)\n",
    "    else:\n",
    "        pass\n",
    "```"
   ]
  },
  {
   "cell_type": "markdown",
   "metadata": {},
   "source": [
    "`None` is also special in that it is a *singleton*.  That is to say, there can only be one None object in a Python program, and hence ever `None` is not merely equal to, but *identical to* every other `None`."
   ]
  },
  {
   "cell_type": "markdown",
   "metadata": {},
   "source": [
    "#Numeric types"
   ]
  },
  {
   "cell_type": "markdown",
   "metadata": {},
   "source": [
    "Python has are three distinct built-in numeric classes (or types): integers, floating-point numbers, and complex numbers. Numbers in Python are instantiated from numeric literal expressions in code or are the results returned by functions, methods, and operators."
   ]
  },
  {
   "cell_type": "markdown",
   "metadata": {},
   "source": [
    "## `bool` (boolean) type"
   ]
  },
  {
   "cell_type": "markdown",
   "metadata": {},
   "source": [
    "Booleans are a subclass of integers. There are two values: `True` and `False`."
   ]
  },
  {
   "cell_type": "code",
   "execution_count": null,
   "metadata": {
    "collapsed": true
   },
   "outputs": [],
   "source": [
    "# Booleans: Is the Boolean value \"True\" simply the integer value \"1\"?\n",
    "True == 1"
   ]
  },
  {
   "cell_type": "code",
   "execution_count": null,
   "metadata": {
    "collapsed": true
   },
   "outputs": [],
   "source": [
    "False < 1 # Arithmetic comparison equivalent to \"0<1\""
   ]
  },
  {
   "cell_type": "code",
   "execution_count": null,
   "metadata": {
    "collapsed": true
   },
   "outputs": [],
   "source": [
    "(True + 1) "
   ]
  },
  {
   "cell_type": "code",
   "execution_count": null,
   "metadata": {
    "collapsed": true
   },
   "outputs": [],
   "source": [
    "isinstance(True, bool)"
   ]
  },
  {
   "cell_type": "code",
   "execution_count": null,
   "metadata": {
    "collapsed": true
   },
   "outputs": [],
   "source": [
    "True is 1 # This is not quite what some expect"
   ]
  },
  {
   "cell_type": "code",
   "execution_count": null,
   "metadata": {
    "collapsed": true
   },
   "outputs": [],
   "source": [
    "type(True), type(1)"
   ]
  },
  {
   "cell_type": "code",
   "execution_count": null,
   "metadata": {
    "collapsed": true
   },
   "outputs": [],
   "source": [
    "issubclass(bool, int)"
   ]
  },
  {
   "cell_type": "markdown",
   "metadata": {},
   "source": [
    "## `int` (integer) type"
   ]
  },
  {
   "cell_type": "markdown",
   "metadata": {},
   "source": [
    "Numeric literals that contain no decimal point and no `e` (which express floating-point numbers) and no trailing `j` (which express complex numbers) are (decimal) integers."
   ]
  },
  {
   "cell_type": "code",
   "execution_count": 1,
   "metadata": {},
   "outputs": [
    {
     "name": "stdout",
     "output_type": "stream",
     "text": [
      "12345678 <class 'int'>\n"
     ]
    }
   ],
   "source": [
    "a = 12345678     # Replace with any sequence integer characters without spaces\n",
    "print(a,type(a))"
   ]
  },
  {
   "cell_type": "markdown",
   "metadata": {},
   "source": [
    "Representations of integers in certain numeral bases other than 10 can be entered as numeric literals: `0x` or `0X` prefix literal hexadecimal integers, `0o` or `0O` prefix literal octal integers, and `0b` or `0B` prefix literal binary integers."
   ]
  },
  {
   "cell_type": "code",
   "execution_count": 2,
   "metadata": {},
   "outputs": [
    {
     "name": "stdout",
     "output_type": "stream",
     "text": [
      "65283\n",
      "65283\n",
      "65283\n"
     ]
    }
   ],
   "source": [
    "# Hexadecimal integers\n",
    "print(0xFF03) # 15*16**3 + 15*16**2 +0*16**1 +3*16**0\n",
    "print(0XFF03) # 15*16**3 + 15*16**2 +0*16**1 +3*16**0\n",
    "print(15*16**3 + 15*16**2 +0*16**1 +3*16**0) # Verify result above"
   ]
  },
  {
   "cell_type": "code",
   "execution_count": 3,
   "metadata": {},
   "outputs": [
    {
     "name": "stdout",
     "output_type": "stream",
     "text": [
      "32099\n",
      "32099\n",
      "32099\n"
     ]
    }
   ],
   "source": [
    "# Octal integers\n",
    "print(0o76543) # 7*8**4 + 6*8**3 + 5*8**2 + 4*8**1 + 3*8**0\n",
    "print(0O76543)\n",
    "print(7*8**4 + 6*8**3 + 5*8**2 + 4*8**1 + 3*8**0) # Verify result above"
   ]
  },
  {
   "cell_type": "code",
   "execution_count": null,
   "metadata": {
    "collapsed": true
   },
   "outputs": [],
   "source": [
    "# Binary integers\n",
    "print(0b10010011) # 1*2**7 + 0*2**6 + 0*2**5 + 1*2**4 + 0*2**3 + 0*2**2 + 1*2**1 + 1*2**0\n",
    "print(0B10010011) # 1*2**7 + 0*2**6 + 0*2**5 + 1*2**4 + 0*2**3 + 0*2**2 + 1*2**1 + 1*2**0\n",
    "# Verify result above\n",
    "print(1*2**7 + 0*2**6 + 0*2**5 + 1*2**4 + 0*2**3 + 0*2**2 + 1*2**1 + 1*2**0) "
   ]
  },
  {
   "cell_type": "code",
   "execution_count": 4,
   "metadata": {},
   "outputs": [
    {
     "data": {
      "text/plain": [
       "805"
      ]
     },
     "execution_count": 4,
     "metadata": {},
     "output_type": "execute_result"
    }
   ],
   "source": [
    "# A number in base 6\n",
    "int(\"3421\", 6)"
   ]
  },
  {
   "cell_type": "markdown",
   "metadata": {},
   "source": [
    "In Python 3, integers can have unlimited length in principle; as arithmetic operations produce results that overflow, representations of integers with longer bit patterns are adapted as required."
   ]
  },
  {
   "cell_type": "code",
   "execution_count": null,
   "metadata": {
    "collapsed": true
   },
   "outputs": [],
   "source": [
    "# Some integers\n",
    "print(2**8)\n",
    "print(2**32)\n",
    "print(2**64)\n",
    "print(2**65)\n",
    "print(2**129)"
   ]
  },
  {
   "cell_type": "code",
   "execution_count": null,
   "metadata": {
    "collapsed": true
   },
   "outputs": [],
   "source": [
    "# Even very large integers can be represented in Python\n",
    "2**(2**16)"
   ]
  },
  {
   "cell_type": "markdown",
   "metadata": {
    "collapsed": true
   },
   "source": [
    "In addition to standard arithmetic operations, certain bitwise operations can be applied to integers."
   ]
  },
  {
   "cell_type": "code",
   "execution_count": null,
   "metadata": {
    "collapsed": true
   },
   "outputs": [],
   "source": [
    "print(3 << 4)  # shift left (int only)\n",
    "print(33 >> 4) # shift right (int only)\n",
    "print(3 & 4)   # bitwise and (int only)\n",
    "print(3 | 4)   # bitwise or (int only)\n",
    "print(3 ^ 4)   # bitwise xor (int only)\n",
    "print(~ 3)     # bitwise not (int only)"
   ]
  },
  {
   "cell_type": "markdown",
   "metadata": {},
   "source": [
    "## `float` (floating-point number) type"
   ]
  },
  {
   "cell_type": "markdown",
   "metadata": {},
   "source": [
    "Real number literals (expressed in base 10 scientific notation) are distinguished from integer literals by either a decimal point or an explicit mantissa and exponent separated by `e` or `E` (optionally with a decimal point as well)."
   ]
  },
  {
   "cell_type": "code",
   "execution_count": null,
   "metadata": {
    "collapsed": true
   },
   "outputs": [],
   "source": [
    "a = 4.732\n",
    "print(a, type(a))"
   ]
  },
  {
   "cell_type": "code",
   "execution_count": null,
   "metadata": {
    "collapsed": true
   },
   "outputs": [],
   "source": [
    "print(123e2)     # 12300; \"123e2\" means \"123 times 10**2\"\n",
    "print(456E-4)    # 0.0456; \"456e-4\" means \"456 times 10**(-4)\"\n",
    "print(-.7436e3)  # -743.6\n",
    "print(1476.3e20) # 1.4763*10**23"
   ]
  },
  {
   "cell_type": "code",
   "execution_count": null,
   "metadata": {
    "collapsed": true
   },
   "outputs": [],
   "source": [
    "-12345.6e78"
   ]
  },
  {
   "cell_type": "code",
   "execution_count": null,
   "metadata": {
    "collapsed": true
   },
   "outputs": [],
   "source": [
    "# \"int(23.45678e4)\" means \"23.45678 times 10 to the power 4 truncated to an integer\"\n",
    "int(23.45678e4)"
   ]
  },
  {
   "cell_type": "markdown",
   "metadata": {},
   "source": [
    "By default, Python floating-point numbers are stored internally using 8 bytes (i.e., double precision or `double` in C). Greater precision is attainable using the `decimal` and `numpy` modules. Specific details about internal representation of floating-point numbers can be determined using `sys.float_info`.\n",
    "\n",
    "Some fundamental facts to know about floating-point numbers:\n",
    "* The largest positive floating-point value is about $10^{308}$ in double precision; larger values *overflow* to $+\\infty$.\n",
    "* The smallest positive floating-point value is about $10^{-324}$ in double precision; smaller values *underflow* to 0.\n",
    "* Double precision floating-point values are represented with a 52-bit mantissa (plus one implicit bit). In practice, this translates to roughly 15&ndash;16 decimal digits of precision at best.\n",
    "* Certain computations&mdash;e.g., $-\\infty/\\infty$, etc.&mdash;result in *Not-a-Number* (also denoted *NaN* or *nan*).\n",
    "* More details on floating-point numbers & arithmetic:\n",
    "    * [Floating-point numbers](https://en.wikipedia.org/wiki/Floating_point)\n",
    "    * [The Floating-Point Guide](http://floating-point-gui.de/formats/fp/)\n",
    "    * [IEEE 754 standard](http://en.wikipedia.org/wiki/IEEE_754-2008)\n",
    "\n",
    "The behavior of IEEE-754 approximates the behavior of Real numbers in mathematics using a fixed and moderate amount of memory for each number, but because it is an imprecise format, in many cases it does not precisely obey mathematically expected properties such [associativity](https://en.wikipedia.org/wiki/Associative_property) , [commutativity](https://en.wikipedia.org/wiki/Commutative_property), and [multiplicative inverse](https://en.wikipedia.org/wiki/Multiplicative_inverse).  \n",
    "\n",
    "In an old discussion on the comp.lang.python Usenet group, a commentor noted that \"anyone who claims to understand IEEE-754 floating point math fully is either a liar or Tim Peters!\"  Tim Peters—author of the Zen of Python, inventor of the widely used [Timsort](https://en.wikipedia.org/wiki/Timsort), and contributor #2 to Python itself—replied \"It could be both.\""
   ]
  },
  {
   "cell_type": "code",
   "execution_count": 5,
   "metadata": {},
   "outputs": [
    {
     "data": {
      "text/plain": [
       "sys.float_info(max=1.7976931348623157e+308, max_exp=1024, max_10_exp=308, min=2.2250738585072014e-308, min_exp=-1021, min_10_exp=-307, dig=15, mant_dig=53, epsilon=2.220446049250313e-16, radix=2, rounds=1)"
      ]
     },
     "execution_count": 5,
     "metadata": {},
     "output_type": "execute_result"
    }
   ],
   "source": [
    "import sys\n",
    "sys.float_info"
   ]
  },
  {
   "cell_type": "code",
   "execution_count": 6,
   "metadata": {},
   "outputs": [
    {
     "data": {
      "text/plain": [
       "-inf"
      ]
     },
     "execution_count": 6,
     "metadata": {},
     "output_type": "execute_result"
    }
   ],
   "source": [
    "-1.23456e310 # overflows to -infinity"
   ]
  },
  {
   "cell_type": "code",
   "execution_count": 7,
   "metadata": {},
   "outputs": [
    {
     "data": {
      "text/plain": [
       "nan"
      ]
     },
     "execution_count": 7,
     "metadata": {},
     "output_type": "execute_result"
    }
   ],
   "source": [
    "float('Inf') / float('-inf') # Evaluates to +inf / -inf == nan"
   ]
  },
  {
   "cell_type": "code",
   "execution_count": null,
   "metadata": {
    "collapsed": true
   },
   "outputs": [],
   "source": [
    "for exponent in range(308, 400):\n",
    "    float_string = \"1e-{:d}\".format(exponent)\n",
    "    print(\"Attempting to represent {} as a float...\".format(float_string))\n",
    "    float_val = float(float_string)\n",
    "    if float_val == 0:\n",
    "        print(\"Underflow to 0 at {}\".format(float_string))\n",
    "        break"
   ]
  },
  {
   "cell_type": "markdown",
   "metadata": {},
   "source": [
    "\"nan\" means \"Not a Number\", e.g., inf/inf, inf-inf, or any operation involving nan"
   ]
  },
  {
   "cell_type": "code",
   "execution_count": 27,
   "metadata": {},
   "outputs": [
    {
     "data": {
      "text/plain": [
       "(nan, nan)"
      ]
     },
     "execution_count": 27,
     "metadata": {},
     "output_type": "execute_result"
    }
   ],
   "source": [
    "inf = float('inf')\n",
    "inf-inf, inf/inf"
   ]
  },
  {
   "cell_type": "markdown",
   "metadata": {},
   "source": [
    "Every infinity is equal to, but not identical to, every other infinity of the sign.  However, every NaN is unequal to every other Nan"
   ]
  },
  {
   "cell_type": "code",
   "execution_count": 21,
   "metadata": {},
   "outputs": [
    {
     "data": {
      "text/plain": [
       "True"
      ]
     },
     "execution_count": 21,
     "metadata": {},
     "output_type": "execute_result"
    }
   ],
   "source": [
    "-1.23456e310 == -inf"
   ]
  },
  {
   "cell_type": "code",
   "execution_count": 29,
   "metadata": {},
   "outputs": [
    {
     "data": {
      "text/plain": [
       "True"
      ]
     },
     "execution_count": 29,
     "metadata": {},
     "output_type": "execute_result"
    }
   ],
   "source": [
    "inf == inf+2 == float('inf')"
   ]
  },
  {
   "cell_type": "code",
   "execution_count": 23,
   "metadata": {},
   "outputs": [
    {
     "data": {
      "text/plain": [
       "False"
      ]
     },
     "execution_count": 23,
     "metadata": {},
     "output_type": "execute_result"
    }
   ],
   "source": [
    "inf is inf+2"
   ]
  },
  {
   "cell_type": "code",
   "execution_count": 25,
   "metadata": {},
   "outputs": [
    {
     "data": {
      "text/plain": [
       "False"
      ]
     },
     "execution_count": 25,
     "metadata": {},
     "output_type": "execute_result"
    }
   ],
   "source": [
    "inf-inf == inf/inf"
   ]
  },
  {
   "cell_type": "code",
   "execution_count": 14,
   "metadata": {},
   "outputs": [
    {
     "data": {
      "text/plain": [
       "False"
      ]
     },
     "execution_count": 14,
     "metadata": {},
     "output_type": "execute_result"
    }
   ],
   "source": [
    "float('nan') == float('nan')"
   ]
  },
  {
   "cell_type": "markdown",
   "metadata": {},
   "source": [
    "Comparing floating-point values for equality is generally inadvisable. Minor rounding errors in the least significant bits prevent simple calculation from resulting in expected results. It is usually better to specify a small tolerance (c.f., the square-root iteration from Module 1) to test for approximate equality of floating-point values."
   ]
  },
  {
   "cell_type": "code",
   "execution_count": null,
   "metadata": {
    "collapsed": true
   },
   "outputs": [],
   "source": [
    "b = sum([1/7]*7) # equivalent to \"1/7 + 1/7 + 1/7 + 1/7 + 1/7 + 1/7 + 1/7\"\n",
    "print(\"1/7 + 1/7 + 1/7 + 1/7 + 1/7 + 1/7 + 1/7 != 1.0\")\n",
    "print(b, \"!=\", 1.0)"
   ]
  },
  {
   "cell_type": "code",
   "execution_count": null,
   "metadata": {
    "collapsed": true
   },
   "outputs": [],
   "source": [
    "# Associativity can produce rounding errors\n",
    "a = (0.1 + 0.2) + 0.3\n",
    "b = 0.1 + (0.2 + 0.3)\n",
    "print(a, b)"
   ]
  },
  {
   "cell_type": "code",
   "execution_count": null,
   "metadata": {
    "collapsed": true
   },
   "outputs": [],
   "source": [
    "# Or overflows depending on associativity\n",
    "a = (1e307*100) / 100\n",
    "b = 1e307 * (100/100)\n",
    "print(a, b)"
   ]
  },
  {
   "cell_type": "code",
   "execution_count": null,
   "metadata": {
    "collapsed": true
   },
   "outputs": [],
   "source": [
    "delta = 0.0001   # Set our tolerance delta\n",
    "δ = delta \n",
    "abs(3.14159265 - 3.1415) < δ"
   ]
  },
  {
   "cell_type": "code",
   "execution_count": null,
   "metadata": {
    "collapsed": true
   },
   "outputs": [],
   "source": [
    "type(δ)"
   ]
  },
  {
   "cell_type": "markdown",
   "metadata": {},
   "source": [
    "It is also important to be wary of the distinction between integer (\"floor\") division with `//` as opposed to regular floating-point division with `/`. In addition, dividing by zero raises an exception.\n",
    "\n",
    "Notice Python permits mixed arithmetic; when values of `int` and `float` type are combined in arithmetic expressions, the `int` is promoted (\"cast\") to a `float`. The type of a value can be explicitly cast using the constructors `int()`, or `float()` (with appropriate rounding/truncation)."
   ]
  },
  {
   "cell_type": "code",
   "execution_count": null,
   "metadata": {
    "collapsed": true
   },
   "outputs": [],
   "source": [
    "1.0/0"
   ]
  },
  {
   "cell_type": "code",
   "execution_count": null,
   "metadata": {
    "collapsed": true
   },
   "outputs": [],
   "source": [
    "print(1/5)"
   ]
  },
  {
   "cell_type": "code",
   "execution_count": null,
   "metadata": {
    "collapsed": true
   },
   "outputs": [],
   "source": [
    "# Types of division (different from Python 2.x)\n",
    "print(2/3)\n",
    "print(2//3)\n",
    "print(2.0//3.0)"
   ]
  },
  {
   "cell_type": "code",
   "execution_count": null,
   "metadata": {
    "collapsed": true
   },
   "outputs": [],
   "source": [
    "denominators = [3, 4, 6, 0, 3]\n",
    "for d in denominators:\n",
    "    print(\"d = %d\" % d)\n",
    "    print(7/d)"
   ]
  },
  {
   "cell_type": "code",
   "execution_count": null,
   "metadata": {
    "collapsed": true
   },
   "outputs": [],
   "source": [
    "denominators = [3, 4, 6, 0, 3]\n",
    "for d in denominators:\n",
    "    print(\"d = %d\" % d)\n",
    "    try:\n",
    "        print(7/d)\n",
    "    except ZeroDivisionError:\n",
    "        print(\"Attempt to divide by zero\")"
   ]
  },
  {
   "cell_type": "markdown",
   "metadata": {},
   "source": [
    "## `complex` (complex number) type"
   ]
  },
  {
   "cell_type": "markdown",
   "metadata": {},
   "source": [
    "In mathematics, it is common to refer to the square root of $-1$ as $i$ or $j$; in Python, we'll use the symbol $\\mathtt{j}$ to denote $\\sqrt{-1}$. Then *complex numbers* are expressible as a combination of the form $x+yj$ where $x$ and $y$ are real numbers.\n",
    "\n",
    "* In the expression $x+yj$, $x$ is said to be the *real* part and $y$ is said to be the *imaginary* part.\n",
    "* In Python, a complex numeric literal is (a) a real numeric literal with the symbol `j` as a suffix or (b) a real numeric literal added or subtracted to a real numeric literal with the symbol `j`. Notice this is the only case in Python where a token mixing numerals and alphabetic characters can begin with a numeral."
   ]
  },
  {
   "cell_type": "code",
   "execution_count": null,
   "metadata": {
    "collapsed": true
   },
   "outputs": [],
   "source": [
    "# Complex numbers\n",
    "print(4.56e-3+7.5e1j)\n",
    "complex_one = 1 + 0j \n",
    "print(complex_one == 1.0)\n",
    "print(complex_one is 1.0)\n",
    "type(complex_one)   # complex_one has type \"complex\" even though the imaginary part is zero"
   ]
  },
  {
   "cell_type": "markdown",
   "metadata": {},
   "source": [
    "When an `int` or a `float` value is combined in an arithmetic expression with a `complex` value, the result is cast to a `complex`. The type of a value can be explicitly cast using the constructors `int()`, `float()`, or `complex()` (with rounding or zeros introduced appropriately)."
   ]
  },
  {
   "cell_type": "code",
   "execution_count": null,
   "metadata": {
    "collapsed": true
   },
   "outputs": [],
   "source": [
    "a = 3  # Try replacing with various integer of floating-point values\n",
    "print(type(a))\n",
    "a += complex_one # casts resulting value to a complex value\n",
    "print(a, type(a))"
   ]
  },
  {
   "cell_type": "code",
   "execution_count": null,
   "metadata": {
    "collapsed": true
   },
   "outputs": [],
   "source": [
    "x, y = 3, 4.0\n",
    "print(\"x is of type {} and y is of type {}\".format(type(x), type(y)))\n",
    "# cast to \"higher type\" as needed\n",
    "print(\"x + y == {} is of type {}\".format(x+y, type(x+y))) "
   ]
  },
  {
   "cell_type": "code",
   "execution_count": null,
   "metadata": {
    "collapsed": true
   },
   "outputs": [],
   "source": [
    "x, y = complex(3,4), 4.0\n",
    "print(\"x is of type {} and y is of type {}\".format(type(x), type(y)))\n",
    "# cast to \"higher type\" as needed\n",
    "print(\"x * y == {} is of type {}\".format(x*y, type(x*y))) "
   ]
  },
  {
   "cell_type": "markdown",
   "metadata": {},
   "source": [
    "* Python `complex` values are essentially represented as a pair of Python `float` values.\n",
    "* Complex numbers are not ordered; as such, comparisons with \"less than\" and \"greater than:\" operators fail when applied to complex values.\n",
    "* If `z==x+y*1j` is Python complex value, the Python object `z` has attributes *`z.real==x`* and *`z.imag==y`* corresponding to the real and imaginary parts respectively.\n",
    "* The function `abs` returns the *modulus* of a complex value (i.e., $\\mathtt{abs}(x+yj)=\\sqrt{x^2+y^2}$).\n",
    "* If `z==x+y*1j==complex(x,y)` (where `x` & `y` are `float` or `int` values), the method `z.conjugate()` returns the value `x-y*1j` (the *complex conjugate* or `z`)."
   ]
  },
  {
   "cell_type": "code",
   "execution_count": null,
   "metadata": {
    "collapsed": true
   },
   "outputs": [],
   "source": [
    "1+1j < -1-.5j"
   ]
  },
  {
   "cell_type": "code",
   "execution_count": null,
   "metadata": {
    "collapsed": true
   },
   "outputs": [],
   "source": [
    "3+4j < 4+3j"
   ]
  },
  {
   "cell_type": "code",
   "execution_count": null,
   "metadata": {
    "collapsed": true
   },
   "outputs": [],
   "source": [
    "1+0j == 1, 2+0j == 2, 1 < 2"
   ]
  },
  {
   "cell_type": "code",
   "execution_count": null,
   "metadata": {
    "collapsed": true
   },
   "outputs": [],
   "source": [
    "1+0j < 2+0j"
   ]
  },
  {
   "cell_type": "code",
   "execution_count": 38,
   "metadata": {},
   "outputs": [
    {
     "name": "stdout",
     "output_type": "stream",
     "text": [
      "real(z) = -1.430e-01\n",
      "imag(z) = 5.000e+01\n",
      "conjugate(z) = (-0.143-50j)\n"
     ]
    }
   ],
   "source": [
    "z = -1.43e-1+0.5e2j\n",
    "print(\"real(z) = {:.3e}\\nimag(z) = {:.3e}\".format(z.real, z.imag))\n",
    "print(\"conjugate(z) =\", z.conjugate())"
   ]
  },
  {
   "cell_type": "code",
   "execution_count": 30,
   "metadata": {},
   "outputs": [
    {
     "data": {
      "text/plain": [
       "(5.0, 5.0, False)"
      ]
     },
     "execution_count": 30,
     "metadata": {},
     "output_type": "execute_result"
    }
   ],
   "source": [
    "abs(3+4j), abs(4+3j), abs(3+4j) < abs(4+3j)"
   ]
  },
  {
   "cell_type": "markdown",
   "metadata": {},
   "source": [
    "In summary, when working with numeric data types in Python, the [Python documentation on numeric types](https://docs.python.org/3/library/stdtypes.html#numeric-types-int-float-complex) is of great value. When trying to understand how certain operators are computing results, it is useful to keep in mind that the results can differ when the operands are of different numeric type."
   ]
  },
  {
   "cell_type": "code",
   "execution_count": null,
   "metadata": {
    "collapsed": true
   },
   "outputs": [],
   "source": [
    "pow = __builtins__.pow\n",
    "print(3 + 4)          # addition\n",
    "print(3 - 4)          # subtraction\n",
    "print(3 * 4)          # multiplication\n",
    "print(3 / 4)          # \"true division\"\n",
    "print(3 // 4)         # floor division\n",
    "print(13 % 4)         # modulo\n",
    "print(3 ** 4)         # power\n",
    "print(abs(3-4))       # absolute value\n",
    "print(pow(3.0j,4))    # expect 81+0j\n",
    "print(pow(3, 4, 5))   # power with optional modulo: (3**4) % 5\n",
    "print(divmod(3, 4))   # division with remainder\n",
    "print(int(3.14))      # convert to an int\n",
    "print(float(3))       # convert to a float"
   ]
  },
  {
   "cell_type": "markdown",
   "metadata": {},
   "source": [
    "# `str` (string) type"
   ]
  },
  {
   "cell_type": "markdown",
   "metadata": {},
   "source": [
    "Strings (or `str` objects) are textual data with *delimeters* to denote where the string starts and ends. String literals are constructed with single quote characters(i.e., `'`), double quote characters (i.e., `\"`) or a trio of single or double quote characters (i.e., `'''` or `\"\"\"`) as delimiters. Triple quoted strings can span multiple lines&mdash;all associated whitespace will be included in the string."
   ]
  },
  {
   "cell_type": "code",
   "execution_count": 8,
   "metadata": {},
   "outputs": [
    {
     "name": "stdout",
     "output_type": "stream",
     "text": [
      "a string <class 'str'>\n"
     ]
    }
   ],
   "source": [
    "a = 'a string'\n",
    "print(a, type(a))"
   ]
  },
  {
   "cell_type": "code",
   "execution_count": 9,
   "metadata": {},
   "outputs": [
    {
     "name": "stdout",
     "output_type": "stream",
     "text": [
      "Single quotes as delimiters permit \"double\" quotes inside.\n",
      "Double quotes as delimiters don't have problems with 'single' quotes inside.\n",
      "\n",
      "Triple (single) quotes don't have problems with 'single' or \"double\" quotes\n",
      "inside. They don't even have problems with line breaks!\n",
      "\n"
     ]
    }
   ],
   "source": [
    "string_1 = 'Single quotes as delimiters permit \"double\" quotes inside.'\n",
    "string_2 = \"Double quotes as delimiters don't have problems with 'single' quotes inside.\"\n",
    "string_3 = '''\n",
    "Triple (single) quotes don't have problems with 'single' or \"double\" quotes\n",
    "inside. They don't even have problems with line breaks!\n",
    "'''\n",
    "print(string_1)\n",
    "print(string_2)\n",
    "print(string_3)"
   ]
  },
  {
   "cell_type": "markdown",
   "metadata": {},
   "source": [
    "To embed a single quote character (one or more) within a string delimited by single quotes, a backslash character is needed as an *escape chracter*. The same applies for double quote characters embedded within strings delimited by double quote characters. Other escaped string literals can be found in the [Python documentation](https://docs.python.org/3/reference/lexical_analysis.html#strings). Notice as of Python 3, strings characters are [Unicode code points](https://en.wikipedia.org/wiki/Code_point)."
   ]
  },
  {
   "cell_type": "code",
   "execution_count": 10,
   "metadata": {},
   "outputs": [
    {
     "name": "stdout",
     "output_type": "stream",
     "text": [
      "empty_str = ''\n",
      "Single quotes as delimiters permit 'escaped single' quotes inside.\n",
      "Double quotes as delimiters \"escaped double\" quotes inside.\n",
      "Other escaped characters include the literal backslash \\,\n",
      "Unicode characters with hex values like \\u00CC == Ì, the\ttab character \\t &\n",
      "the line feed \\n.\n"
     ]
    }
   ],
   "source": [
    "empty_str = ''\n",
    "string_1 = 'Single quotes as delimiters permit \\'escaped single\\' quotes inside.'\n",
    "string_2 = \"Double quotes as delimiters \\\"escaped double\\\" quotes inside.\"\n",
    "string_3 = '''Other escaped characters include the literal backslash \\\\,\n",
    "Unicode characters with hex values like \\\\u00CC == \\u00CC,'''\n",
    "string_4 = 'the\\ttab character \\\\t &\\nthe line feed \\\\n.'\n",
    "print('empty_str = %r' % empty_str)\n",
    "print(string_1)\n",
    "print(string_2)\n",
    "print(string_3,string_4)"
   ]
  },
  {
   "cell_type": "code",
   "execution_count": 11,
   "metadata": {},
   "outputs": [
    {
     "name": "stdout",
     "output_type": "stream",
     "text": [
      "Unicode charcters may be entered by name: δ.  And also by codepoint: δ\n"
     ]
    }
   ],
   "source": [
    "print(\"Unicode charcters may be entered by name: \\N{GREEK SMALL LETTER DELTA}. \",\n",
    "      \"And also by codepoint: \\u03B4\")"
   ]
  },
  {
   "cell_type": "code",
   "execution_count": 12,
   "metadata": {},
   "outputs": [
    {
     "name": "stdout",
     "output_type": "stream",
     "text": [
      "Strings can contain either literal non-ASCII characters Say in Русский.  Or they can contain escapes to codepoints such as Русский\n"
     ]
    }
   ],
   "source": [
    "print(\"Strings can contain either literal non-ASCII characters\",\n",
    "      \"Say in Русский.  Or they can contain escapes to codepoints\",\n",
    "      \"such as \\u0420\\u0443\\u0441\\u0441\\u043a\\u0438\\u0439\")"
   ]
  },
  {
   "cell_type": "code",
   "execution_count": 13,
   "metadata": {},
   "outputs": [
    {
     "data": {
      "text/plain": [
       "'δ'"
      ]
     },
     "execution_count": 13,
     "metadata": {},
     "output_type": "execute_result"
    }
   ],
   "source": [
    "import unicodedata\n",
    "unicodedata.lookup(\"GREEK SMALL LETTER DELTA\")"
   ]
  },
  {
   "cell_type": "code",
   "execution_count": 14,
   "metadata": {},
   "outputs": [
    {
     "data": {
      "text/plain": [
       "'0x3b4'"
      ]
     },
     "execution_count": 14,
     "metadata": {},
     "output_type": "execute_result"
    }
   ],
   "source": [
    "hex(ord(\"δ\"))"
   ]
  },
  {
   "cell_type": "code",
   "execution_count": 15,
   "metadata": {},
   "outputs": [
    {
     "data": {
      "text/plain": [
       "'GREEK SMALL LETTER DELTA'"
      ]
     },
     "execution_count": 15,
     "metadata": {},
     "output_type": "execute_result"
    }
   ],
   "source": [
    "unicodedata.name(\"δ\")"
   ]
  },
  {
   "cell_type": "code",
   "execution_count": 16,
   "metadata": {},
   "outputs": [
    {
     "name": "stdout",
     "output_type": "stream",
     "text": [
      "Mary had a little lamb\n",
      "Its fleece was white as snow\n",
      "And everywhere that Mary went\n",
      "The lamb was sure to go.\n"
     ]
    }
   ],
   "source": [
    "old_s = 'Mary had a little lamb\\nIts fleece was white as snow\\nAnd everywhere that Mary went\\nThe lamb was sure to go.'\n",
    "print(old_s)"
   ]
  },
  {
   "cell_type": "code",
   "execution_count": 17,
   "metadata": {},
   "outputs": [
    {
     "name": "stdout",
     "output_type": "stream",
     "text": [
      "Mary had a little lamb\n",
      "Its fleece was white as snow\n",
      "And everywhere that Mary went\n",
      "The lamb was sure to go.\n"
     ]
    }
   ],
   "source": [
    "new_s = \"\"\"Mary had a little lamb\n",
    "Its fleece was white as snow\n",
    "And everywhere that Mary went\n",
    "The lamb was sure to go.\"\"\"\n",
    "print(new_s)"
   ]
  },
  {
   "cell_type": "code",
   "execution_count": 18,
   "metadata": {},
   "outputs": [
    {
     "name": "stdout",
     "output_type": "stream",
     "text": [
      "True\n"
     ]
    },
    {
     "data": {
      "text/plain": [
       "False"
      ]
     },
     "execution_count": 18,
     "metadata": {},
     "output_type": "execute_result"
    }
   ],
   "source": [
    "# Check whether the strings new_s and old_s are identical in every way.\n",
    "print(new_s == old_s) \n",
    "new_s is old_s"
   ]
  },
  {
   "cell_type": "code",
   "execution_count": 19,
   "metadata": {},
   "outputs": [
    {
     "data": {
      "text/plain": [
       "\"Ain't it a shame?!\""
      ]
     },
     "execution_count": 19,
     "metadata": {},
     "output_type": "execute_result"
    }
   ],
   "source": [
    "s = \"Ain't it a shame?!\"  # Single quote in double quotes\n",
    "s"
   ]
  },
  {
   "cell_type": "code",
   "execution_count": 20,
   "metadata": {},
   "outputs": [
    {
     "name": "stdout",
     "output_type": "stream",
     "text": [
      "Ain't it a shame?!\n"
     ]
    }
   ],
   "source": [
    "s = 'Ain\\'t it a shame?!' # Another example of escaping characters within strings\n",
    "print(s)"
   ]
  },
  {
   "cell_type": "code",
   "execution_count": null,
   "metadata": {
    "collapsed": true
   },
   "outputs": [],
   "source": [
    "s = \"\"\"He said \"Ain't that a shame\"!\"\"\" # Triple quotes to include both single/double\n",
    "print(s)"
   ]
  },
  {
   "cell_type": "code",
   "execution_count": null,
   "metadata": {
    "collapsed": true
   },
   "outputs": [],
   "source": [
    "print('He said \"Hi\" to me')"
   ]
  },
  {
   "cell_type": "code",
   "execution_count": null,
   "metadata": {
    "collapsed": true
   },
   "outputs": [],
   "source": [
    "print(\"He said \\\"Hi\\\" to me\") # Another example of escaping characters within strings"
   ]
  },
  {
   "cell_type": "markdown",
   "metadata": {},
   "source": [
    "##String methods"
   ]
  },
  {
   "cell_type": "markdown",
   "metadata": {},
   "source": [
    "As objects, strings have a variety of *methods* (functions) that can be invoked and operate on data contained in the calling `str` object.\n",
    "\n",
    "| | | |\n",
    " :-: | :-: | :-: | :-: \n",
    "`capitalize`|`casefold`|`center`|`count`\n",
    "`encode`|`endswith`|`expandtabs`|`find`\n",
    "`format`|`format_map`|`index`|`isalnum`\n",
    "`isalpha`|`isdecimal`|`isdigit`|`isidentifier`\n",
    "`islower`|`isnumeric`|`isprintable`|`isspace`\n",
    "`istitle`|`isupper`|`join`|`ljust`\n",
    "`lower`|`lstrip`|`maketrans`|`partition`\n",
    "`replace`|`rfind`|`rindex` | `rjust`\n",
    "`rpartition`|`rsplit`|`rstrip` | `split`\n",
    "`splitlines`|`strip`|`swapcase`| `title`\n",
    "`translate`|`upper`|`zfill` |\n",
    "\n",
    "Many of these methods have purposes indicated clearly by their names. We can use `help` or the [Python documentation](https://docs.python.org/3/library/stdtypes.html#string-methods) to determine their function. Let's examine a few here.\n",
    "\n",
    "Given a `str` object with identifier, say, `a_string`, any string *`method`* is invoked using `a_string.`*`method()`* (that is, the string as an argument to the method is positioned as a prefix of the method in the call). Of course, other arguments may be required within the parentheses, depending on which method is used.\n",
    "\n",
    "With strings, as with all objects, the object instance itself is the first thing passed to the method, defined in the class.  So, for example, writing `a_string.method(other, args)` does the same thing as calling `str.method(a_string, other, args)`."
   ]
  },
  {
   "cell_type": "code",
   "execution_count": 23,
   "metadata": {},
   "outputs": [
    {
     "name": "stdout",
     "output_type": "stream",
     "text": [
      "\n",
      "    an aging willow\n",
      "    its image unsteady\n",
      "    in the flowing stream\n",
      "\n"
     ]
    }
   ],
   "source": [
    "haiku = \"\"\"\n",
    "    an aging willow\n",
    "    its image unsteady\n",
    "    in the flowing stream\n",
    "\"\"\"\n",
    "print(haiku) # We construct a multi-line string to experiment with first."
   ]
  },
  {
   "cell_type": "code",
   "execution_count": 42,
   "metadata": {},
   "outputs": [
    {
     "data": {
      "text/plain": [
       "6"
      ]
     },
     "execution_count": 42,
     "metadata": {},
     "output_type": "execute_result"
    }
   ],
   "source": [
    "# haiku.count('i') returns the number of times the character 'i' occurs\n",
    "haiku.count('i')"
   ]
  },
  {
   "cell_type": "code",
   "execution_count": 43,
   "metadata": {},
   "outputs": [
    {
     "data": {
      "text/plain": [
       "3"
      ]
     },
     "execution_count": 43,
     "metadata": {},
     "output_type": "execute_result"
    }
   ],
   "source": [
    "# haiku.count('in') returns the number of times the substring 'in' occurs\n",
    "haiku.count('in')"
   ]
  },
  {
   "cell_type": "code",
   "execution_count": 22,
   "metadata": {},
   "outputs": [
    {
     "ename": "NameError",
     "evalue": "name 'haiku' is not defined",
     "output_type": "error",
     "traceback": [
      "\u001b[1;31m---------------------------------------------------------------------------\u001b[0m",
      "\u001b[1;31mNameError\u001b[0m                                 Traceback (most recent call last)",
      "\u001b[1;32m<ipython-input-22-fdda242cad8e>\u001b[0m in \u001b[0;36m<module>\u001b[1;34m\u001b[0m\n\u001b[1;32m----> 1\u001b[1;33m \u001b[0mhaiku\u001b[0m\u001b[1;33m.\u001b[0m\u001b[0msplit\u001b[0m\u001b[1;33m(\u001b[0m\u001b[1;33m)\u001b[0m\u001b[1;33m\u001b[0m\u001b[1;33m\u001b[0m\u001b[0m\n\u001b[0m",
      "\u001b[1;31mNameError\u001b[0m: name 'haiku' is not defined"
     ]
    }
   ],
   "source": [
    "haiku.split()"
   ]
  },
  {
   "cell_type": "code",
   "execution_count": 45,
   "metadata": {},
   "outputs": [
    {
     "data": {
      "text/plain": [
       "1"
      ]
     },
     "execution_count": 45,
     "metadata": {},
     "output_type": "execute_result"
    }
   ],
   "source": [
    "sum('in' == word for word in haiku.split())"
   ]
  },
  {
   "cell_type": "code",
   "execution_count": 46,
   "metadata": {},
   "outputs": [
    {
     "data": {
      "text/plain": [
       "3"
      ]
     },
     "execution_count": 46,
     "metadata": {},
     "output_type": "execute_result"
    }
   ],
   "source": [
    "sum('in' in word for word in haiku.split())"
   ]
  },
  {
   "cell_type": "code",
   "execution_count": null,
   "metadata": {
    "collapsed": true
   },
   "outputs": [],
   "source": [
    "haiku.count('x') # returns 0 because 'x' is not a substring of haiku"
   ]
  },
  {
   "cell_type": "code",
   "execution_count": null,
   "metadata": {
    "collapsed": true
   },
   "outputs": [],
   "source": [
    "print(haiku.strip()) # Removes leading/trailing whitespace (but not internal whitespace)"
   ]
  },
  {
   "cell_type": "code",
   "execution_count": null,
   "metadata": {
    "collapsed": true
   },
   "outputs": [],
   "source": [
    "# Splits string haiku on line feed characters; returns a *list*\n",
    "lines = haiku.split('\\n')\n",
    "lines"
   ]
  },
  {
   "cell_type": "code",
   "execution_count": 25,
   "metadata": {},
   "outputs": [
    {
     "data": {
      "text/plain": [
       "['an aging willow', 'its image unsteady', 'in the flowing stream']"
      ]
     },
     "execution_count": 25,
     "metadata": {},
     "output_type": "execute_result"
    }
   ],
   "source": [
    "# We're going to jump ahead slightly in this example, i.e., using list conprehension\n",
    "# The following removes empty lines as well as trailing whitespace\n",
    "[line.strip() for line in haiku.split('\\n') if line]"
   ]
  },
  {
   "cell_type": "code",
   "execution_count": 24,
   "metadata": {},
   "outputs": [
    {
     "name": "stdout",
     "output_type": "stream",
     "text": [
      "an aging willow\n",
      "its image unsteady\n",
      "in the flowing stream\n"
     ]
    }
   ],
   "source": [
    "# joining pieces back together\n",
    "print(\"\\n\".join([line.strip() for line in haiku.split('\\n') if line]))"
   ]
  },
  {
   "cell_type": "code",
   "execution_count": 26,
   "metadata": {},
   "outputs": [
    {
     "name": "stdout",
     "output_type": "stream",
     "text": [
      "\n",
      "    AN AGING WILLOW\n",
      "    ITS IMAGE UNSTEADY\n",
      "    IN THE FLOWING STREAM\n",
      "\n",
      "\n",
      "    an aging willow\n",
      "    its image unsteady\n",
      "    in the flowing stream\n",
      "\n"
     ]
    }
   ],
   "source": [
    "print(haiku.upper()) # Convert to upper case, return a new string\n",
    "print(haiku)"
   ]
  },
  {
   "cell_type": "code",
   "execution_count": null,
   "metadata": {
    "collapsed": true
   },
   "outputs": [],
   "source": [
    "# replaces a source substring with target substring, return as new string\n",
    "print(haiku.replace('unsteady','wavering'))"
   ]
  },
  {
   "cell_type": "code",
   "execution_count": null,
   "metadata": {
    "collapsed": true
   },
   "outputs": [],
   "source": [
    "# nothing happens with the source substring not found\n",
    "print(haiku.replace('uneasy','wavering')) "
   ]
  },
  {
   "cell_type": "code",
   "execution_count": null,
   "metadata": {
    "collapsed": true
   },
   "outputs": [],
   "source": [
    "'uneasy' in haiku # Should evaluate to False"
   ]
  },
  {
   "cell_type": "code",
   "execution_count": null,
   "metadata": {
    "collapsed": true
   },
   "outputs": [],
   "source": [
    "'unsteady' in haiku"
   ]
  },
  {
   "cell_type": "code",
   "execution_count": 27,
   "metadata": {},
   "outputs": [
    {
     "data": {
      "text/plain": [
       "False"
      ]
     },
     "execution_count": 27,
     "metadata": {},
     "output_type": "execute_result"
    }
   ],
   "source": [
    "haiku.endswith('stream') # Whoops, need to strip the whitespace..."
   ]
  },
  {
   "cell_type": "code",
   "execution_count": 28,
   "metadata": {},
   "outputs": [
    {
     "data": {
      "text/plain": [
       "True"
      ]
     },
     "execution_count": 28,
     "metadata": {},
     "output_type": "execute_result"
    }
   ],
   "source": [
    "haiku.rstrip().endswith('stream') # This is what we expected..."
   ]
  },
  {
   "cell_type": "code",
   "execution_count": null,
   "metadata": {
    "collapsed": true
   },
   "outputs": [],
   "source": [
    "# Another jump ahead to map().  This is another way of iterating implicitly\n",
    "lines = map(str.strip, haiku.split('\\n'))\n",
    "[x for x in lines if x.endswith(('willow','stream'))]"
   ]
  },
  {
   "cell_type": "code",
   "execution_count": 29,
   "metadata": {},
   "outputs": [
    {
     "data": {
      "text/plain": [
       "False"
      ]
     },
     "execution_count": 29,
     "metadata": {},
     "output_type": "execute_result"
    }
   ],
   "source": [
    "haiku.isalpha() # Only True when all characters are alphanumeric"
   ]
  },
  {
   "cell_type": "code",
   "execution_count": null,
   "metadata": {
    "collapsed": true
   },
   "outputs": [],
   "source": [
    "\"David\".isalpha() # Should be True"
   ]
  },
  {
   "cell_type": "code",
   "execution_count": null,
   "metadata": {
    "collapsed": true
   },
   "outputs": [],
   "source": [
    "haiku.isdigit()"
   ]
  },
  {
   "cell_type": "code",
   "execution_count": null,
   "metadata": {
    "collapsed": true
   },
   "outputs": [],
   "source": [
    "\"12345\".isdigit()"
   ]
  },
  {
   "cell_type": "code",
   "execution_count": null,
   "metadata": {
    "collapsed": true
   },
   "outputs": [],
   "source": [
    "# This asks \"are all the *letters* lowercase?\", \n",
    "# not \"are all the characters lowercase letters?\n",
    "haiku.islower()"
   ]
  },
  {
   "cell_type": "code",
   "execution_count": null,
   "metadata": {
    "collapsed": true
   },
   "outputs": [],
   "source": [
    "\"abc123#$%^&\".islower()"
   ]
  },
  {
   "cell_type": "code",
   "execution_count": null,
   "metadata": {
    "collapsed": true
   },
   "outputs": [],
   "source": [
    "# However, there must also *be* some letters for this to be true\n",
    "\"12345\".islower()"
   ]
  },
  {
   "cell_type": "code",
   "execution_count": null,
   "metadata": {
    "collapsed": true
   },
   "outputs": [],
   "source": [
    "help(str.islower)"
   ]
  },
  {
   "cell_type": "code",
   "execution_count": null,
   "metadata": {
    "collapsed": true
   },
   "outputs": [],
   "source": [
    "haiku.isupper()"
   ]
  },
  {
   "cell_type": "code",
   "execution_count": 31,
   "metadata": {},
   "outputs": [
    {
     "data": {
      "text/plain": [
       "['an',\n",
       " 'aging',\n",
       " 'willow',\n",
       " 'its',\n",
       " 'image',\n",
       " 'unsteady',\n",
       " 'in',\n",
       " 'the',\n",
       " 'flowing',\n",
       " 'stream']"
      ]
     },
     "execution_count": 31,
     "metadata": {},
     "output_type": "execute_result"
    }
   ],
   "source": [
    "# Converts string haiku into a list of words\n",
    "# ... more specifically, divide the string around any sequence of whitespace\n",
    "words = haiku.split() \n",
    "words"
   ]
  },
  {
   "cell_type": "code",
   "execution_count": 32,
   "metadata": {},
   "outputs": [
    {
     "name": "stdout",
     "output_type": "stream",
     "text": [
      "['an', 'aging', 'willow', 'its', 'image', 'unsteady', 'in', 'the', 'flowing', 'stream']\n"
     ]
    },
    {
     "data": {
      "text/plain": [
       "'an__aging__willow__its__image__unsteady__in__the__flowing__stream'"
      ]
     },
     "execution_count": 32,
     "metadata": {},
     "output_type": "execute_result"
    }
   ],
   "source": [
    "print(words)\n",
    "\"__\".join(words)"
   ]
  },
  {
   "cell_type": "code",
   "execution_count": 30,
   "metadata": {},
   "outputs": [
    {
     "data": {
      "text/plain": [
       "'\\n_ _ _ _ _a_n_ _a_g_i_n_g_ _w_i_l_l_o_w_\\n_ _ _ _ _i_t_s_ _i_m_a_g_e_ _u_n_s_t_e_a_d_y_\\n_ _ _ _ _i_n_ _t_h_e_ _f_l_o_w_i_n_g_ _s_t_r_e_a_m_\\n'"
      ]
     },
     "execution_count": 30,
     "metadata": {},
     "output_type": "execute_result"
    }
   ],
   "source": [
    "\"_\".join(haiku) # Treats string haiku as list of letters; joins all with '_'"
   ]
  },
  {
   "cell_type": "code",
   "execution_count": 33,
   "metadata": {},
   "outputs": [
    {
     "data": {
      "text/plain": [
       "True"
      ]
     },
     "execution_count": 33,
     "metadata": {},
     "output_type": "execute_result"
    }
   ],
   "source": [
    "prefixes = ('Ti', 'Da', 'Le')\n",
    "\"David\".startswith(prefixes)"
   ]
  },
  {
   "cell_type": "code",
   "execution_count": 34,
   "metadata": {},
   "outputs": [
    {
     "name": "stdout",
     "output_type": "stream",
     "text": [
      "    an aging willow    its image unsteady    in the flowing stream\n"
     ]
    },
    {
     "data": {
      "text/plain": [
       "['    an aging ', 'illo', '    its image unsteady    in the flo', 'ing stream']"
      ]
     },
     "execution_count": 34,
     "metadata": {},
     "output_type": "execute_result"
    }
   ],
   "source": [
    "# Replaces line-feed with empty strings; puts all on one line\n",
    "print(haiku.replace('\\n',''))\n",
    "# split into substrings on 'w'; returns list\n",
    "haiku.replace('\\n','').split('w')"
   ]
  },
  {
   "cell_type": "code",
   "execution_count": null,
   "metadata": {
    "collapsed": true
   },
   "outputs": [],
   "source": [
    "# Returns leading index of first occurrence of 'aging' inside 'haiku'\n",
    "haiku.find('aging')"
   ]
  },
  {
   "cell_type": "code",
   "execution_count": null,
   "metadata": {
    "collapsed": true
   },
   "outputs": [],
   "source": [
    "# haiku.find(substring) returns -1 if the substring is not found\n",
    "print(haiku.find('old'))"
   ]
  },
  {
   "cell_type": "code",
   "execution_count": null,
   "metadata": {
    "collapsed": true
   },
   "outputs": [],
   "source": [
    "help(str.find)"
   ]
  },
  {
   "cell_type": "code",
   "execution_count": null,
   "metadata": {
    "collapsed": true
   },
   "outputs": [],
   "source": [
    "# also str.rindex() exists, and behaves as expected\n",
    "haiku.rfind('st'), haiku.find('st')"
   ]
  },
  {
   "cell_type": "code",
   "execution_count": null,
   "metadata": {
    "collapsed": true
   },
   "outputs": [],
   "source": [
    "# haiku.index is like haiku.find() with different error-handling bahaviour\n",
    "haiku.index('aging') "
   ]
  },
  {
   "cell_type": "code",
   "execution_count": null,
   "metadata": {
    "collapsed": true
   },
   "outputs": [],
   "source": [
    "haiku.index('old') # ValueError because 'old' not substring of haiku"
   ]
  },
  {
   "cell_type": "code",
   "execution_count": 38,
   "metadata": {},
   "outputs": [
    {
     "data": {
      "text/plain": [
       "('\\n', 'i')"
      ]
     },
     "execution_count": 38,
     "metadata": {},
     "output_type": "execute_result"
    }
   ],
   "source": [
    "haiku[0], haiku[10]"
   ]
  },
  {
   "cell_type": "code",
   "execution_count": null,
   "metadata": {
    "collapsed": true
   },
   "outputs": [],
   "source": [
    "haiku[:8]"
   ]
  },
  {
   "cell_type": "code",
   "execution_count": 37,
   "metadata": {},
   "outputs": [
    {
     "data": {
      "text/plain": [
       "'aging willow\\n    its image unsteady\\n    in the flowing stream\\n'"
      ]
     },
     "execution_count": 37,
     "metadata": {},
     "output_type": "execute_result"
    }
   ],
   "source": [
    "haiku[8:]"
   ]
  },
  {
   "cell_type": "code",
   "execution_count": null,
   "metadata": {
    "collapsed": true
   },
   "outputs": [],
   "source": [
    "haiku[8:20]"
   ]
  },
  {
   "cell_type": "code",
   "execution_count": 36,
   "metadata": {},
   "outputs": [
    {
     "data": {
      "text/plain": [
       "True"
      ]
     },
     "execution_count": 36,
     "metadata": {},
     "output_type": "execute_result"
    }
   ],
   "source": [
    "haiku[8:20] + haiku[20:30] == haiku[8:30]"
   ]
  },
  {
   "cell_type": "code",
   "execution_count": 35,
   "metadata": {},
   "outputs": [
    {
     "data": {
      "text/plain": [
       "'\\n'"
      ]
     },
     "execution_count": 35,
     "metadata": {},
     "output_type": "execute_result"
    }
   ],
   "source": [
    "haiku[-1]"
   ]
  },
  {
   "cell_type": "code",
   "execution_count": null,
   "metadata": {
    "collapsed": true
   },
   "outputs": [],
   "source": [
    "haiku[-20:-10]"
   ]
  },
  {
   "cell_type": "markdown",
   "metadata": {},
   "source": [
    "The distinct behaviors of `str.find` and `str.index` suggest two distinct methods for safeguarding output from a program. The first method `str.find` returns `-1` when the substring input argument does not produce a match. By contrast, the second method `str.index` returns an *exception*&mdash;in particular, the exception `ValueError` to inform us that the substring was not found in the string.\n",
    "\n",
    "Using `str.find`, we can construct an `if-else` block to flag the error. Notice that if we don't try to catch the erroneous return value `-1`, the statement `print(haiku[position:])` prints the last character of `haiku` (which happens to be `\\n`, a line feed character.\n",
    "\n",
    "Note on good programming practice: It is more dangerous to let your program *succeed* in returning a wrong answer than it is to raise an uncaught exception that you *have to* fix before working with the program.  The philosophy behind this is often expressed with the slogan *\"Fail early, fail hard!\"*"
   ]
  },
  {
   "cell_type": "code",
   "execution_count": 39,
   "metadata": {},
   "outputs": [
    {
     "data": {
      "text/plain": [
       "'\\n'"
      ]
     },
     "execution_count": 39,
     "metadata": {},
     "output_type": "execute_result"
    }
   ],
   "source": [
    "# pos = haiku.find('old')\n",
    "# end = haiku[pos:]\n",
    "haiku[-1:]"
   ]
  },
  {
   "cell_type": "code",
   "execution_count": null,
   "metadata": {
    "collapsed": true
   },
   "outputs": [],
   "source": [
    "position = haiku.find('old')\n",
    "if position != -1:\n",
    "    print(haiku[position:])\n",
    "else:\n",
    "    print(\"Not found\")"
   ]
  },
  {
   "cell_type": "markdown",
   "metadata": {},
   "source": [
    "A more Pythonic idiom to catch an error is to use a *`try-except`* block instead. With the `try-except` block, the Python interpreter attempts to execute the statement `position = haiku.index('old')`. In this case, rather than returning an innocuous value `-1` (as `haiku.find` would do), `haiku.index` *raises an exception* (in this case, the exception `ValueError`). When an exception is raised within a `try` block, the code within the `except` block executes instead. It is generally considered better practice to raise exceptions in functions/modules that can be caught in higher-level namespaces.\n",
    "\n",
    "Programmers who have worked with languages such as C++ and Java may think of exceptions as terrible events that indicate a program is badly broken.  In contrast, Pythonic code follows the philosophy that *\"Exceptions are not that exceptional!\"*  Allowing exceptions to occur, and catching them in the appropriate place is good and expected coding style."
   ]
  },
  {
   "cell_type": "code",
   "execution_count": 40,
   "metadata": {},
   "outputs": [
    {
     "name": "stdout",
     "output_type": "stream",
     "text": [
      "ValueError('substring not found')\n"
     ]
    }
   ],
   "source": [
    "# More Pythonic not to allow a bad answer to pass silently\n",
    "try:\n",
    "    position = haiku.index('old')\n",
    "    print(haiku[position:])\n",
    "except Exception as e: # Exception is the broad class of all exceptions\n",
    "    # This except block catches *any* exception whatsoever\n",
    "    print(repr(e))"
   ]
  },
  {
   "cell_type": "code",
   "execution_count": null,
   "metadata": {
    "collapsed": true
   },
   "outputs": [],
   "source": [
    "# Even more Pythonic to catch only the exception we know how to deal with\n",
    "try:\n",
    "    pos = haiku.index('old')\n",
    "    print(haiku[pos:])\n",
    "except ValueError as e: # In this version, we flag the particular exception\n",
    "    # This except block executes only with a ValueError.\n",
    "    print(\"Not found\")"
   ]
  },
  {
   "cell_type": "markdown",
   "metadata": {},
   "source": [
    "## String indexing"
   ]
  },
  {
   "cell_type": "markdown",
   "metadata": {},
   "source": [
    "An important feature of string manipulation in Python is *string indexing* and *string slicing*. *Indexing* refers to extracting individual elements (characters) from Python strings. The syntax for indexing uses square brackets around an integer index to refer to a character inside the string.\n",
    "* Indexing starts at 0 at the beginning (left) of the string, e.g., the reference `s[3]` refers to the *fourth* character of the string `s` counting from the left.\n",
    "  * Sometimes using neologisms of constructing cardinal numbers from ordinal names makes clear the difference between \"which character\" and \"which index position.\"  E.g. \"zeroeth\", \"oneth\", \"two-eth\", \"three-eth\" to name indices.  If the use of fake words pains you, don't use these.\n",
    "* Negative indices start from the end (right) of the string, e.g, `s[-2]` is the second to last character in the string.\n",
    "* Trying to index with an index too large for the string throws an exception (an `IndexError`)"
   ]
  },
  {
   "cell_type": "code",
   "execution_count": 41,
   "metadata": {},
   "outputs": [
    {
     "name": "stdout",
     "output_type": "stream",
     "text": [
      "D\n",
      "v\n",
      "16\n"
     ]
    }
   ],
   "source": [
    "s = \"My name is David\"\n",
    "print(s[11])  # Indexed from zero, so s[11] is the 12th character,; expect 'D'\n",
    "print(s[-3])  # expect 'v'\n",
    "print(len(s)) # Prints the length of the string"
   ]
  },
  {
   "cell_type": "code",
   "execution_count": 42,
   "metadata": {},
   "outputs": [
    {
     "ename": "IndexError",
     "evalue": "string index out of range",
     "output_type": "error",
     "traceback": [
      "\u001b[1;31m---------------------------------------------------------------------------\u001b[0m",
      "\u001b[1;31mIndexError\u001b[0m                                Traceback (most recent call last)",
      "\u001b[1;32m<ipython-input-42-9ba0460826da>\u001b[0m in \u001b[0;36m<module>\u001b[1;34m\u001b[0m\n\u001b[0;32m      1\u001b[0m \u001b[1;31m# Should raies an IndexError (last character in the string has index 15)\u001b[0m\u001b[1;33m\u001b[0m\u001b[1;33m\u001b[0m\u001b[1;33m\u001b[0m\u001b[0m\n\u001b[1;32m----> 2\u001b[1;33m \u001b[0mprint\u001b[0m\u001b[1;33m(\u001b[0m\u001b[0ms\u001b[0m\u001b[1;33m[\u001b[0m\u001b[1;36m16\u001b[0m\u001b[1;33m]\u001b[0m\u001b[1;33m)\u001b[0m\u001b[1;33m\u001b[0m\u001b[1;33m\u001b[0m\u001b[0m\n\u001b[0m",
      "\u001b[1;31mIndexError\u001b[0m: string index out of range"
     ]
    }
   ],
   "source": [
    "# Should raies an IndexError (last character in the string has index 15)\n",
    "print(s[16])"
   ]
  },
  {
   "cell_type": "code",
   "execution_count": 43,
   "metadata": {},
   "outputs": [
    {
     "ename": "IndexError",
     "evalue": "string index out of range",
     "output_type": "error",
     "traceback": [
      "\u001b[1;31m---------------------------------------------------------------------------\u001b[0m",
      "\u001b[1;31mIndexError\u001b[0m                                Traceback (most recent call last)",
      "\u001b[1;32m<ipython-input-43-048cc571be61>\u001b[0m in \u001b[0;36m<module>\u001b[1;34m\u001b[0m\n\u001b[1;32m----> 1\u001b[1;33m \u001b[0ms\u001b[0m\u001b[1;33m[\u001b[0m\u001b[1;33m-\u001b[0m\u001b[1;36m17\u001b[0m\u001b[1;33m]\u001b[0m\u001b[1;33m\u001b[0m\u001b[1;33m\u001b[0m\u001b[0m\n\u001b[0m",
      "\u001b[1;31mIndexError\u001b[0m: string index out of range"
     ]
    }
   ],
   "source": [
    "s[-17]"
   ]
  },
  {
   "cell_type": "code",
   "execution_count": 44,
   "metadata": {},
   "outputs": [
    {
     "data": {
      "text/plain": [
       "16"
      ]
     },
     "execution_count": 44,
     "metadata": {},
     "output_type": "execute_result"
    }
   ],
   "source": [
    "# We could have checked the length using:\n",
    "len(s)   # Indices 0 .. 15"
   ]
  },
  {
   "cell_type": "markdown",
   "metadata": {},
   "source": [
    "### Immutability of Python `str` type"
   ]
  },
  {
   "cell_type": "markdown",
   "metadata": {},
   "source": [
    "A confusing feature for newcomers coming from C-family languages to Python is that strings are *immutable*; that is, individual characters/substrings within a string object cannot be overwritten once the string has been created. Thus, expressions involving string indices (or slices, see below) can occur on the right-hand side of an assignment operator, but never on the left-hand side. There are a handful of other immutable data structures in Python whose items cannot be reassigned after the object has been created. Having certain data structures being immutable enables optimizations in using dictionaries (see below)."
   ]
  },
  {
   "cell_type": "code",
   "execution_count": 60,
   "metadata": {},
   "outputs": [
    {
     "name": "stdout",
     "output_type": "stream",
     "text": [
      "My name is David\n"
     ]
    },
    {
     "data": {
      "text/plain": [
       "'name is David'"
      ]
     },
     "execution_count": 60,
     "metadata": {},
     "output_type": "execute_result"
    }
   ],
   "source": [
    "print(s)\n",
    "# This assignment works; s[4] on the right-hand sice of the assignment operator\n",
    "c3 = s[3:]\n",
    "c3"
   ]
  },
  {
   "cell_type": "code",
   "execution_count": 64,
   "metadata": {},
   "outputs": [
    {
     "ename": "TypeError",
     "evalue": "'str' object does not support item assignment",
     "output_type": "error",
     "traceback": [
      "\u001b[1;31m---------------------------------------------------------------------------\u001b[0m",
      "\u001b[1;31mTypeError\u001b[0m                                 Traceback (most recent call last)",
      "\u001b[1;32m<ipython-input-64-c5f6eee8051a>\u001b[0m in \u001b[0;36m<module>\u001b[1;34m\u001b[0m\n\u001b[1;32m----> 1\u001b[1;33m \u001b[0ms\u001b[0m\u001b[1;33m[\u001b[0m\u001b[1;33m-\u001b[0m\u001b[1;36m1\u001b[0m\u001b[1;33m]\u001b[0m \u001b[1;33m=\u001b[0m \u001b[1;34m'g'\u001b[0m \u001b[1;31m# This raises an exception (TypeError)\u001b[0m\u001b[1;33m\u001b[0m\u001b[1;33m\u001b[0m\u001b[0m\n\u001b[0m",
      "\u001b[1;31mTypeError\u001b[0m: 'str' object does not support item assignment"
     ]
    }
   ],
   "source": [
    "s[-1] = 'g' # This raises an exception (TypeError)"
   ]
  },
  {
   "cell_type": "markdown",
   "metadata": {},
   "source": [
    "## String slicing"
   ]
  },
  {
   "cell_type": "markdown",
   "metadata": {},
   "source": [
    "Beyond indexing individual elements of strings, we can also extract *slices* (substrings) from strings by specifying a (half-open) range of indices within brackets.\n",
    "* The slice `my_string[a:b]` extracts a substring with characters `my_string[a]`, `my_string[a+1]`, `my_string[a+2]`, … `my_string[b-2]`, `my_string[b-1]` from the string `my_string` (under the assumption `b>a≥0`).\n",
    "* If `a≥b`, the slice `my_string[a:b]` is the empty string.\n",
    "* If `step>0` and `b>a>0`, then the slice `my_string[a:b:step]` extracts a substring from `my_string` starting from position `a` up to (but not including) position `b` in steps of length `step`. Of course, the endpoints can be given as negative integers as well, in which case, positions are measured from the right of the string.\n",
    "* If `step<0`, the slice `my_string[a:b:step]` extracts a substring traversing the string `my_string` from right to left starting at `a`, terminating at (but not including `b`)\n",
    "* The slice `my_string[:b]` slices from the beginning of the string (position `0`) up to (but not including) postition `b`.\n",
    "* The slice `my_string[a:]` slices from position `a` up to *and including* the end of the string.\n",
    "\n",
    "These rules are more easily understood looking at examples."
   ]
  },
  {
   "cell_type": "code",
   "execution_count": 65,
   "metadata": {},
   "outputs": [
    {
     "name": "stdout",
     "output_type": "stream",
     "text": [
      "My name is David\n",
      "ame i\n"
     ]
    }
   ],
   "source": [
    "print(s)\n",
    "# Slicing: pull out char 4 up to (but *not* including) char 9 from string s\n",
    "print(s[4:9]) "
   ]
  },
  {
   "cell_type": "code",
   "execution_count": 66,
   "metadata": {},
   "outputs": [
    {
     "data": {
      "text/plain": [
       "'David'"
      ]
     },
     "execution_count": 66,
     "metadata": {},
     "output_type": "execute_result"
    }
   ],
   "source": [
    "s[11:] # From s[11] to the very end"
   ]
  },
  {
   "cell_type": "code",
   "execution_count": 67,
   "metadata": {},
   "outputs": [
    {
     "data": {
      "text/plain": [
       "'My name is '"
      ]
     },
     "execution_count": 67,
     "metadata": {},
     "output_type": "execute_result"
    }
   ],
   "source": [
    "s[:11] # From the very start up to (but not including) character 11"
   ]
  },
  {
   "cell_type": "code",
   "execution_count": 68,
   "metadata": {},
   "outputs": [
    {
     "data": {
      "text/plain": [
       "'My name is David'"
      ]
     },
     "execution_count": 68,
     "metadata": {},
     "output_type": "execute_result"
    }
   ],
   "source": [
    "s[:11] + s[11:]"
   ]
  },
  {
   "cell_type": "code",
   "execution_count": 69,
   "metadata": {},
   "outputs": [
    {
     "data": {
      "text/plain": [
       "'D'"
      ]
     },
     "execution_count": 69,
     "metadata": {},
     "output_type": "execute_result"
    }
   ],
   "source": [
    "s[-5] # s[-5] means the character 5 preceding the end"
   ]
  },
  {
   "cell_type": "code",
   "execution_count": 70,
   "metadata": {},
   "outputs": [
    {
     "data": {
      "text/plain": [
       "'David'"
      ]
     },
     "execution_count": 70,
     "metadata": {},
     "output_type": "execute_result"
    }
   ],
   "source": [
    "s[-5:] # Equivalent to s[11:] for this string"
   ]
  },
  {
   "cell_type": "code",
   "execution_count": 73,
   "metadata": {},
   "outputs": [
    {
     "data": {
      "text/plain": [
       "'Da'"
      ]
     },
     "execution_count": 73,
     "metadata": {},
     "output_type": "execute_result"
    }
   ],
   "source": [
    "s[-5:-3] # Again, remember slicing is half-open (non-inclusive)"
   ]
  },
  {
   "cell_type": "code",
   "execution_count": 72,
   "metadata": {},
   "outputs": [
    {
     "data": {
      "text/plain": [
       "'ya '"
      ]
     },
     "execution_count": 72,
     "metadata": {},
     "output_type": "execute_result"
    }
   ],
   "source": [
    "s[1:10:3] # Specify stride of length 3 (i.e., count in steps of 3)"
   ]
  },
  {
   "cell_type": "code",
   "execution_count": 74,
   "metadata": {},
   "outputs": [
    {
     "data": {
      "text/plain": [
       "'dvDs'"
      ]
     },
     "execution_count": 74,
     "metadata": {},
     "output_type": "execute_result"
    }
   ],
   "source": [
    "s[15:8:-2]"
   ]
  },
  {
   "cell_type": "markdown",
   "metadata": {},
   "source": [
    "The next couple cells show why using half-open intervals makes reasoning about slices easier.  The end of one slice adds seamlessly to the start of one with the same index.  This helps avoid what are called \"[fence-post errors](https://en.wikipedia.org/wiki/Off-by-one_error).\"\n",
    "\n",
    "There's an old computer science joke that illustrates this:\n",
    "\n",
    "> There are two hard things in computer science: cache invalidation; naming things; and off-by-one errors."
   ]
  },
  {
   "cell_type": "code",
   "execution_count": 75,
   "metadata": {},
   "outputs": [
    {
     "data": {
      "text/plain": [
       "'name is'"
      ]
     },
     "execution_count": 75,
     "metadata": {},
     "output_type": "execute_result"
    }
   ],
   "source": [
    "s[3:7] + s[7:10] # Remember, + operator concatenates strings..."
   ]
  },
  {
   "cell_type": "code",
   "execution_count": 76,
   "metadata": {},
   "outputs": [
    {
     "data": {
      "text/plain": [
       "'My name is David'"
      ]
     },
     "execution_count": 76,
     "metadata": {},
     "output_type": "execute_result"
    }
   ],
   "source": [
    "s[:5] + s[5:]"
   ]
  },
  {
   "cell_type": "markdown",
   "metadata": {},
   "source": [
    "##String conversions and `format`"
   ]
  },
  {
   "cell_type": "markdown",
   "metadata": {},
   "source": [
    "It is possible to cast numeric values from strings if the strings represent appropriate numeric literals."
   ]
  },
  {
   "cell_type": "code",
   "execution_count": 77,
   "metadata": {},
   "outputs": [
    {
     "name": "stdout",
     "output_type": "stream",
     "text": [
      "3.14 -8\n"
     ]
    }
   ],
   "source": [
    "print(float(\"3.14\"), int(\"-8\"))"
   ]
  },
  {
   "cell_type": "markdown",
   "metadata": {},
   "source": [
    "###Format strings (old-style)"
   ]
  },
  {
   "cell_type": "markdown",
   "metadata": {},
   "source": [
    "Prior to Python 2.6, the principle way of conversting numeric data and other Python data into strings was using *string interpolation*.  The syntax of this style resembles conventions from the C programming language's `printf` statement. The basic trick was to use a `%` character preceding one of the characters in the table below to specify what would be substituted into the format string.\n",
    "\n",
    "String interpolation remains widely used, but the newer `str.format()` method is more powerful, albeit also often more complicated."
   ]
  },
  {
   "cell_type": "markdown",
   "metadata": {},
   "source": [
    "| Conversion | Meaning\n",
    "| :-:   | :-:\n",
    "|`d`     |      Signed integer decimal.\n",
    "|`i`     |      Signed integer decimal.\n",
    "|`o`     |      Unsigned octal.\n",
    "|`u`     |      Unsigned decimal.\n",
    "|`x`     |      Unsigned hexadecimal (lowercase).\n",
    "|`X`     |      Unsigned hexadecimal (uppercase).\n",
    "|`e`     |      Floating point exponential format (lowercase).\n",
    "|`E`     |      Floating point exponential format (uppercase).\n",
    "|`f`     |      Floating point decimal format.\n",
    "|`F`     |      Floating point decimal format.\n",
    "|`g`     |      Same as \"`e`\" if exponent is greater than `-4` or less than precision, \"`f`\" otherwise.\n",
    "|`G`     |      Same as \"`E`\" if exponent is greater than `-4` or less than precision, \"`F`\" otherwise.\n",
    "|`c`     |      Single character (accepts integer or single character string).\n",
    "|`r`     |      String (converts any Python object using `repr()`).\n",
    "|`s`     |      String (converts any Python object using `str()`).\n",
    "|`%`     |      No argument is converted, results in a \"`%`\" character in the result.\n",
    "\n",
    "The format string followed by the `%` character and a Python tuple of values to convert described the \"string interpolation\". The generic syntax for variable substitution in a format string is\n",
    "\n",
    "        %[flags][width][.precision]type\n",
    "\n",
    "where `flags`, `width`, and `precision` are optional parameters."
   ]
  },
  {
   "cell_type": "code",
   "execution_count": 78,
   "metadata": {},
   "outputs": [
    {
     "name": "stdout",
     "output_type": "stream",
     "text": [
      "42.5\n",
      "Pi is about 3, in Indiana\n"
     ]
    },
    {
     "data": {
      "text/plain": [
       "'For rough use, we often just use 3.1416'"
      ]
     },
     "execution_count": 78,
     "metadata": {},
     "output_type": "execute_result"
    }
   ],
   "source": [
    "a = str(42.5)\n",
    "print(a)\n",
    "# String interpolation (C-style, more or less)\n",
    "# i.e. %[flags][width][.precision]type\n",
    "from math import pi\n",
    "print(\"Pi is about %d, in %s\" % (pi, \"Indiana\"))\n",
    "\"For rough use, we often just use %0.4f\" % pi"
   ]
  },
  {
   "cell_type": "code",
   "execution_count": 79,
   "metadata": {},
   "outputs": [
    {
     "data": {
      "text/plain": [
       "'For rough use, we often just use 3.1415927'"
      ]
     },
     "execution_count": 79,
     "metadata": {},
     "output_type": "execute_result"
    }
   ],
   "source": [
    "# Notice that if just one value is being interpolated into the string, \n",
    "# we can give the bare value.  However, if multiple, must use a tuple.\n",
    "\"For rough use, we often just use %0.7f\" % pi"
   ]
  },
  {
   "cell_type": "code",
   "execution_count": 80,
   "metadata": {},
   "outputs": [
    {
     "data": {
      "text/plain": [
       "'Better precision is 3.14159265358979312'"
      ]
     },
     "execution_count": 80,
     "metadata": {},
     "output_type": "execute_result"
    }
   ],
   "source": [
    "\"Better precision is %.17f\" % pi"
   ]
  },
  {
   "cell_type": "code",
   "execution_count": 81,
   "metadata": {},
   "outputs": [
    {
     "data": {
      "text/plain": [
       "'Past 17 digits, floating point precision is meaningless: 3.141592653589793115997963468544'"
      ]
     },
     "execution_count": 81,
     "metadata": {},
     "output_type": "execute_result"
    }
   ],
   "source": [
    "\"Past 17 digits, floating point precision is meaningless: %.30f\" % pi"
   ]
  },
  {
   "cell_type": "code",
   "execution_count": 82,
   "metadata": {},
   "outputs": [
    {
     "data": {
      "text/plain": [
       "'Octal 15; Decimal 13; HEX D; hex d; Octal w/ marker 0o15; Hex w/ marker 0XD'"
      ]
     },
     "execution_count": 82,
     "metadata": {},
     "output_type": "execute_result"
    }
   ],
   "source": [
    "\"Octal %o; Decimal %i; HEX %X; hex %x; Octal w/ marker %#o; Hex w/ marker %#X\" % (\n",
    "       13,         13,     13,     13,                 13,                13)"
   ]
  },
  {
   "cell_type": "code",
   "execution_count": 83,
   "metadata": {},
   "outputs": [
    {
     "data": {
      "text/plain": [
       "'Explicit signs -13, +13'"
      ]
     },
     "execution_count": 83,
     "metadata": {},
     "output_type": "execute_result"
    }
   ],
   "source": [
    "\"Explicit signs %+d, %+d\" % (-13, 13)"
   ]
  },
  {
   "cell_type": "code",
   "execution_count": 84,
   "metadata": {},
   "outputs": [
    {
     "data": {
      "text/plain": [
       "'Zero padded ints -00013, +00013'"
      ]
     },
     "execution_count": 84,
     "metadata": {},
     "output_type": "execute_result"
    }
   ],
   "source": [
    "\"Zero padded ints %+06d, %+06d\" % (-13, 13)"
   ]
  },
  {
   "cell_type": "code",
   "execution_count": null,
   "metadata": {
    "collapsed": true
   },
   "outputs": [],
   "source": [
    "\"Space padded ints %6d, %6d\" % (-13, 13)"
   ]
  },
  {
   "cell_type": "code",
   "execution_count": null,
   "metadata": {
    "collapsed": true
   },
   "outputs": [],
   "source": [
    "\"A scientific notation format %.3e using 'e'\" % 1234567890"
   ]
  },
  {
   "cell_type": "markdown",
   "metadata": {},
   "source": [
    "### The `str.format()` mini-language"
   ]
  },
  {
   "cell_type": "markdown",
   "metadata": {},
   "source": [
    "The `format()` function and `str.format()` method of strings are enormously powerful, and occassionally enormously confusing. An excellent summary of the differences (with examples) can be found at [Pyformat](https://pyformat.info/).\n",
    "\n",
    "Let's try a few examples both with old-style string interpolation and with `str.format`."
   ]
  },
  {
   "cell_type": "code",
   "execution_count": null,
   "metadata": {
    "collapsed": true
   },
   "outputs": [],
   "source": [
    "# Define a tuple of numeric values, say dollar amounts.\n",
    "expenses = (1234.5678, 9900000.1, 83, .02)\n",
    "for n, item in enumerate(expenses):\n",
    "    print(\"Purchase %d:\\t$%.2f\" % (n+1, item))"
   ]
  },
  {
   "cell_type": "markdown",
   "metadata": {},
   "source": [
    "We can do better than the last cell using a `format` specifier. In particular, two things we want in formatted currencies is comma separators in large numbers and right alignment."
   ]
  },
  {
   "cell_type": "code",
   "execution_count": null,
   "metadata": {
    "collapsed": true
   },
   "outputs": [],
   "source": [
    "format_string = \"Purchase {}:\\t${:>13,.2f}\" # Format string using new format mini-language\n",
    "for n, item in enumerate(expenses):\n",
    "    print(format_string.format(n+1, item))"
   ]
  },
  {
   "cell_type": "markdown",
   "metadata": {},
   "source": [
    "We compactly described the currency format above. However, we may rather have the dollar sign close to its amount. This needs to be done in two stages."
   ]
  },
  {
   "cell_type": "code",
   "execution_count": null,
   "metadata": {
    "collapsed": true
   },
   "outputs": [],
   "source": [
    "format_string = \"Purchase {}:\\t{:>14}\"\n",
    "for n, item in enumerate(expenses):\n",
    "    amount = \"${:,.2f}\".format(item)\n",
    "    print(format_string.format(n+1, amount))"
   ]
  },
  {
   "cell_type": "markdown",
   "metadata": {},
   "source": [
    "### Details on the `str.format()` mini-language"
   ]
  },
  {
   "cell_type": "markdown",
   "metadata": {},
   "source": [
    "Take a look at this for a complete description of the `str.format()` mini language: https://docs.python.org/3.4/library/string.html#formatstrings\n",
    "\n",
    "| Option | Meaning\n",
    "|:------:|:--------------------------------------\n",
    "| `<`      | The field will be left-aligned within the available space. The default for strings.\n",
    "| `>`      | The field will be right-aligned within the available space. The default for numbers.\n",
    "| `=`      | Forces the padding to be placed after the sign (if any) but before the digits. This is used for printing fields in the form \"`+000000120`\". This alignment option is only valid for numeric types.\n",
    "| `^`      | Forces the field to be centered within the available space.\n",
    "| `+`      | A sign should be used for both positive as well as negative numbers.\n",
    "| `-`      | A sign should be used only for negative numbers; the default behavior.\n",
    "| `space`  | A leading space should be used on positive numbers, a minus sign on negative numbers."
   ]
  },
  {
   "cell_type": "markdown",
   "metadata": {},
   "source": [
    "Notice that `str.format()` permits several data structures for specifiying values."
   ]
  },
  {
   "cell_type": "code",
   "execution_count": 47,
   "metadata": {},
   "outputs": [
    {
     "name": "stdout",
     "output_type": "stream",
     "text": [
      "The capital of California is Sacramento, a Northern city\n"
     ]
    }
   ],
   "source": [
    "# parameters can be out of order...\n",
    "print(\"The capital of {1:s} is {2:s}, a {0:s} city\".format(\n",
    "                      \"Northern\", \"California\", \"Sacramento\", \"USA\"))"
   ]
  },
  {
   "cell_type": "code",
   "execution_count": 48,
   "metadata": {},
   "outputs": [
    {
     "name": "stdout",
     "output_type": "stream",
     "text": [
      "The capital of California is Sacramento\n"
     ]
    }
   ],
   "source": [
    "# Using keyword arguments to specify values to format\n",
    "print(\"The capital of {state} is {capital}\".format(\n",
    "                      capital=\"Sacramento\", state=\"California\", country=\"USA\"))"
   ]
  },
  {
   "cell_type": "markdown",
   "metadata": {},
   "source": [
    "See the above linked documents for more full details."
   ]
  },
  {
   "cell_type": "markdown",
   "metadata": {
    "collapsed": true
   },
   "source": [
    "# Data structures"
   ]
  },
  {
   "cell_type": "markdown",
   "metadata": {},
   "source": [
    "Python has a rich set of builtin data types that act as containers for other data types, including\n",
    "* `tuple`\n",
    "* `list`\n",
    "* `dict` (dictionary)\n",
    "* `set`"
   ]
  },
  {
   "cell_type": "markdown",
   "metadata": {},
   "source": [
    "## `tuple` type"
   ]
  },
  {
   "cell_type": "markdown",
   "metadata": {},
   "source": [
    "A tuple is a heterogeneous and immutable sequence of items. Tuples are constructed by separating values with commas, but parentheses `()` usually enclose them for clarity (and sometimes for disambiguation, depending on context)\n",
    "\n",
    "* The empty tuple is denoted `()`.\n",
    "* A single-item tuple requires a trailing comma to distinguish, e.g., `(a,)` from parentheses merely grouping an expression like `(a)` (which would *not* be a tuple).\n",
    "  * To see why this is strictly required, contrast `(a+b)*3` with `(a+b,)*3`.\n",
    "* For tuples of length greater than 1, the grouping parentheses are in fact optional. As such, the tuple `(a,b,c)` is equivalent to the tuple `a,b,c` with no delimiting parentheses.\n",
    "* Tuples can be sliced and indexed exactly like strings with the same rules (but slicing extracts \"sub-tuples\" rather than substrings).\n",
    "* As with strings, tuples are immutable, and thus references to tuple items by indexing or slicing cannot occur on the left-hand side of an assignment statement."
   ]
  },
  {
   "cell_type": "code",
   "execution_count": null,
   "metadata": {
    "collapsed": true
   },
   "outputs": [],
   "source": [
    "# Some special syntax issues\n",
    "empty_tup = ()              # Empty tuple\n",
    "singleton_tup = ('Foo',)    # One-item tuple (comma required)\n",
    "no_parens = \"this\", \"that\"  # Parentheses sometimes optional\n",
    "print('empty_tup == %s has length %d.' % (empty_tup, len(empty_tup)))\n",
    "print(singleton_tup)\n",
    "print(no_parens)"
   ]
  },
  {
   "cell_type": "code",
   "execution_count": null,
   "metadata": {
    "collapsed": true
   },
   "outputs": [],
   "source": [
    "my_tup = (4, 'a', 'giraffe', 3-4j)\n",
    "print(my_tup)\n",
    "print(type(my_tup))\n",
    "print(my_tup[2:])"
   ]
  },
  {
   "cell_type": "code",
   "execution_count": null,
   "metadata": {
    "collapsed": true
   },
   "outputs": [],
   "source": [
    "my_tup[4] # raises an IndexError exception"
   ]
  },
  {
   "cell_type": "markdown",
   "metadata": {},
   "source": [
    "One feature of Python tuples is that they can be used for assigning values to several identifiers at once. This is a surprising, but convenient, feature to programmers coming from other languages."
   ]
  },
  {
   "cell_type": "code",
   "execution_count": 50,
   "metadata": {},
   "outputs": [
    {
     "name": "stdout",
     "output_type": "stream",
     "text": [
      "x=3, y=4.7, z=My dog\n",
      "x=3, y=4.7, z=My dog\n"
     ]
    }
   ],
   "source": [
    "# Multiple assignments equivalent to following three individual assignments.\n",
    "# x = 3\n",
    "# y = 4.7\n",
    "# z = \"My dog\"\n",
    "x, y, z = 3, 4.7, \"My dog\"  # We could write '(x, y, z) = (3, 4.7, \"My dog\")' instead\n",
    "print('x=%d, y=%3.1f, z=%s' % (x,y,z))\n",
    "my_tup = x, y, z\n",
    "print('x=%d, y=%3.1f, z=%s' % my_tup)"
   ]
  },
  {
   "cell_type": "code",
   "execution_count": 51,
   "metadata": {},
   "outputs": [
    {
     "name": "stdout",
     "output_type": "stream",
     "text": [
      "x=3, y=4.7, z=My dog\n",
      "x=3, y=4.7, z=My dog\n",
      "x=3, y=4.7, z=My dog\n"
     ]
    }
   ],
   "source": [
    "print(\"x={:d}, y={:3.1f}, z={:s}\".format(x, y, z))\n",
    "print(\"x={:d}, y={:3.1f}, z={:s}\".format(*my_tup))\n",
    "print(\"x={2:d}, y={1:3.1f}, z={0:s}\".format(z, y, x))"
   ]
  },
  {
   "cell_type": "code",
   "execution_count": 52,
   "metadata": {},
   "outputs": [
    {
     "data": {
      "text/plain": [
       "'Just one thing'"
      ]
     },
     "execution_count": 52,
     "metadata": {},
     "output_type": "execute_result"
    }
   ],
   "source": [
    "\"Just one %s\" % \"thing\""
   ]
  },
  {
   "cell_type": "code",
   "execution_count": null,
   "metadata": {
    "collapsed": true
   },
   "outputs": [],
   "source": [
    "a,b,c = range(2,5) # tuple unpacking the range object\n",
    "print('a=%d, b=%d, c=%d' % (a,b,c))"
   ]
  },
  {
   "cell_type": "code",
   "execution_count": null,
   "metadata": {
    "collapsed": true
   },
   "outputs": [],
   "source": [
    "a, b, c = range(2,7)"
   ]
  },
  {
   "cell_type": "code",
   "execution_count": null,
   "metadata": {
    "collapsed": true
   },
   "outputs": [],
   "source": [
    "# List unpacking works also\n",
    "[a, b, c] = [1, 2, 3]"
   ]
  },
  {
   "cell_type": "code",
   "execution_count": null,
   "metadata": {
    "collapsed": true
   },
   "outputs": [],
   "source": [
    "print(a, b)\n",
    "a, b = b, a # Pythonic idiom for swapping variables by tuple assignment\n",
    "print(a, b)"
   ]
  },
  {
   "cell_type": "code",
   "execution_count": null,
   "metadata": {
    "collapsed": true
   },
   "outputs": [],
   "source": [
    "# More special syntax\n",
    "a, b, c = 4, 5, 6    # Tuple on right is \"unpacked\" into vars on right\n",
    "print(a, b, c)"
   ]
  },
  {
   "cell_type": "code",
   "execution_count": null,
   "metadata": {
    "collapsed": true
   },
   "outputs": [],
   "source": [
    "# Even more special: we can gather \"rest of values\" using *name\n",
    "# prefix for identifiers assigned to\n",
    "a, b, *c = range(10)\n",
    "print('a=%s, b=%s, c=%s' % (a, b, c))"
   ]
  },
  {
   "cell_type": "code",
   "execution_count": null,
   "metadata": {
    "collapsed": true
   },
   "outputs": [],
   "source": [
    "a, *b, c = range(10)\n",
    "print('a=%s, b=%s, c=%s' % (a, b, c))"
   ]
  },
  {
   "cell_type": "code",
   "execution_count": null,
   "metadata": {
    "collapsed": true
   },
   "outputs": [],
   "source": [
    "*a, b, c = range(10)\n",
    "a, b, c"
   ]
  },
  {
   "cell_type": "code",
   "execution_count": null,
   "metadata": {
    "collapsed": true
   },
   "outputs": [],
   "source": [
    "*a, b, a = range(12)\n",
    "a, b"
   ]
  },
  {
   "cell_type": "code",
   "execution_count": null,
   "metadata": {
    "collapsed": true
   },
   "outputs": [],
   "source": [
    "a, *b, *c, d = range(100)"
   ]
  },
  {
   "cell_type": "code",
   "execution_count": 53,
   "metadata": {},
   "outputs": [
    {
     "data": {
      "text/plain": [
       "(0,\n",
       " [1, 2, 3, 4, 5, 6, 7, 8, 9, 10],\n",
       " [11, 12, 13, 14, 15, 16, 17, 18, 19, 20, 21, 22, 23, 24, 25, 26, 27, 28],\n",
       " 29)"
      ]
     },
     "execution_count": 53,
     "metadata": {},
     "output_type": "execute_result"
    }
   ],
   "source": [
    "# Splitting the middle would be ambiguous, but you could do it explicitly\n",
    "a, *b, c = range(30)\n",
    "b1, b2 = b[:10], b[10:]\n",
    "a, b1, b2, c"
   ]
  },
  {
   "cell_type": "code",
   "execution_count": null,
   "metadata": {
    "collapsed": true
   },
   "outputs": [],
   "source": [
    "my_tup = (1,2,3)\n",
    "try:\n",
    "    my_tup[1] = 33\n",
    "except TypeError:\n",
    "    print(\"Trying to assign to immutable thing\")"
   ]
  },
  {
   "cell_type": "code",
   "execution_count": null,
   "metadata": {
    "collapsed": true
   },
   "outputs": [],
   "source": [
    "tuple(reversed(my_tup)) # using builtin function reversed"
   ]
  },
  {
   "cell_type": "code",
   "execution_count": null,
   "metadata": {
    "collapsed": true
   },
   "outputs": [],
   "source": [
    "reversed(my_tup), my_tup"
   ]
  },
  {
   "cell_type": "markdown",
   "metadata": {},
   "source": [
    "Tuples have very few methods.\n",
    " \n",
    " | |\n",
    " :-: | :-: \n",
    " `count` | `index`\n",
    "\n",
    "The `tuple` methods `count` and `index` behave as the same method in the `str` class. The only distinction is that they compare arbitrary items to elements of a tuple in looking for a match."
   ]
  },
  {
   "cell_type": "code",
   "execution_count": null,
   "metadata": {
    "collapsed": true
   },
   "outputs": [],
   "source": [
    "my_tup = (4, 'a', 'giraffe', 3-4j)\n",
    "print(my_tup)\n",
    "my_tup.index('giraffe')"
   ]
  },
  {
   "cell_type": "code",
   "execution_count": null,
   "metadata": {
    "collapsed": true
   },
   "outputs": [],
   "source": [
    "my_tup.index(2)"
   ]
  },
  {
   "cell_type": "code",
   "execution_count": null,
   "metadata": {
    "collapsed": true
   },
   "outputs": [],
   "source": [
    "letters = ('aaa', 'bbb', 'ccc')\n",
    "letters.index('bbb')"
   ]
  },
  {
   "cell_type": "code",
   "execution_count": null,
   "metadata": {
    "collapsed": true
   },
   "outputs": [],
   "source": [
    "tup2 = tuple(\"Mary had a little lamb\")\n",
    "print(tup2)\n",
    "tup2.count('a')"
   ]
  },
  {
   "cell_type": "code",
   "execution_count": null,
   "metadata": {
    "collapsed": true
   },
   "outputs": [],
   "source": [
    "# We can add (or multiply) tuples to make new ones (like with strings and lists)\n",
    "x = (1,2,\"A\") + (4,5,6)\n",
    "y = (1,2,\"A\") * 3\n",
    "print(x)\n",
    "print(y)"
   ]
  },
  {
   "cell_type": "code",
   "execution_count": null,
   "metadata": {
    "collapsed": true
   },
   "outputs": [],
   "source": [
    "# Occassionally we'd like to \"replace an element\" in a tuple\n",
    "# ... which really means, \"Create a new tuple with that element differing\"\n",
    "tup10 = tuple(range(10))\n",
    "newtup = tup10[:5] + ('five',) + tup10[6:]\n",
    "newtup"
   ]
  },
  {
   "cell_type": "markdown",
   "metadata": {},
   "source": [
    "## `list` type"
   ]
  },
  {
   "cell_type": "markdown",
   "metadata": {},
   "source": [
    "Perhaps the most common (mutable) data structure used in Python is the list. Lists are an efficient, ordered sequence of heterogeneous elements. Lists can expand, and have `O(1)` access and amortized `O(1)` append. In essence, for those  who think in C terms, a Python list is mostly an array of references to Python objects.\n",
    "\n",
    "Sometimes programmers coming from other languages attempt to implement linked-lists, queues, deques, or other special sequence-type structures. In Python, this is largely unnecessary; a list would be easier and usually faster (that said, the standard library provides queues and deques also). The most notable exception where lists are not as fast is when using homogeneous arrays of uniform data type. In those instances, the Python module `numpy` has data structures for homogeneous arrays and associated functions/methods that have been implemented to give very good performance. In either case, a beginning Python programmer need not implement sophisticated sequence/array-type data structures from scratch.\n",
    "\n",
    "Both the `list` and the `tuple` type are heterogeneous ordered sequences, but their roles are conceptually different. A tuple is much more like a *record* that holds a collection of associated information, whereas a list is a sequence of items that are to be treated similarly. Although neither tuples nor lists need be homogeneous in type, the former are immutable while the latter are mutable; it is fairly common to iterate or loop over the elements of a list doing some kind of repeated computation (possibly mutating the list in place). As such, we expect lists to have *similar* elements (e.g., so that they can be sorted or processed similarly); by contrast, tuples are not generally expected to contain similar elements.\n",
    "\n",
    "* The empty list is denoted by empty brackets `[]`.\n",
    "* The simplest way to construct lists is to enclose a comma-separated sequence of items with brackets `[]`.\n",
    "* Lists can be indexed & sliced. The rules are exactly the same as for tuples & strings.\n",
    "* The `+` and `*` operator apply to the `list` type as they do to the `str` & `tuple` types.\n",
    "* Unlike the `tuple` and `str` types, the `list` type is *mutable*. That is, individual items in lists can be reassigned values after the lists has been instantiated. In particular, this also means that lists can be extended (by appending or inserting elements into lists) or by removing/deleting elements."
   ]
  },
  {
   "cell_type": "code",
   "execution_count": null,
   "metadata": {
    "collapsed": true
   },
   "outputs": [],
   "source": [
    "empty_list = []\n",
    "print('empty_list = %s' % empty_list)\n",
    "my_list = [4, 'a', 'giraffe', 3-4j]\n",
    "print(my_list)\n",
    "print(type(my_list))\n",
    "print(my_list[2:])"
   ]
  },
  {
   "cell_type": "markdown",
   "metadata": {},
   "source": [
    "The `list` type has more methods than the `tuple` type and fewer methods than the `str` type.\n",
    "\n",
    "| | | | |\n",
    "|:-: | :-: | :-: | :-:|\n",
    "|`append` | `clear` | `copy` | `count`|\n",
    "|`extend` | `index` | `insert`| `pop`|\n",
    "|`remove` | `reverse` | `sort` | |\n",
    "\n",
    "Most `list` methods&mdash;notably methods other than `copy`, `count`, `index`, and `pop`&mdash;have return values of type `None`. The other methods are *mutator methods* that modify lists in-place. As such, it is important to avoid errors of the form, e.g.,\n",
    "```python\n",
    "my_list = my_list.reverse()\n",
    "```"
   ]
  },
  {
   "cell_type": "markdown",
   "metadata": {},
   "source": [
    "that overwrite the original variable name with `None`. This is a common mistake when using methods that modify mutable types in-place. Immutable types are safeguarded from these kinds of errors which is largely why Python has immutable types."
   ]
  },
  {
   "cell_type": "code",
   "execution_count": null,
   "metadata": {
    "collapsed": true
   },
   "outputs": [],
   "source": [
    "fruit_list = ['banana','apple','mango','canteloupe']\n",
    "print('Initial: fruit_list = %s' % fruit_list)"
   ]
  },
  {
   "cell_type": "code",
   "execution_count": null,
   "metadata": {
    "collapsed": true
   },
   "outputs": [],
   "source": [
    "# Common mutation of a list: appending elements\n",
    "fruit_list.append(\"guava\")\n",
    "print('After appending: fruit_list = %s' % fruit_list)"
   ]
  },
  {
   "cell_type": "code",
   "execution_count": null,
   "metadata": {
    "collapsed": true
   },
   "outputs": [],
   "source": [
    "# Related but different mutation: extending a list with elements from another list\n",
    "fruit_list.extend(['pineapple','coconut','pear'])\n",
    "print('After extending: fruit_list = %s' % fruit_list)"
   ]
  },
  {
   "cell_type": "code",
   "execution_count": null,
   "metadata": {
    "collapsed": true
   },
   "outputs": [],
   "source": [
    "fruit_list.sort() # Sorting list in-place\n",
    "print('After sorting: fruit_list = %s' % fruit_list)"
   ]
  },
  {
   "cell_type": "code",
   "execution_count": null,
   "metadata": {
    "collapsed": true
   },
   "outputs": [],
   "source": [
    "animal_list = ['dog', 'cat', 'frog']\n",
    "print(animal_list)\n",
    "animal_list.extend(\"pig\")\n",
    "# Notice the difference between [\"pig\"] and \"pig\" as an argument to list.extend\n",
    "print(animal_list)"
   ]
  },
  {
   "cell_type": "code",
   "execution_count": null,
   "metadata": {
    "collapsed": true
   },
   "outputs": [],
   "source": [
    "# Remove items either by index, by slice, or by value\n",
    "del animal_list[-3:]\n",
    "print(animal_list)"
   ]
  },
  {
   "cell_type": "code",
   "execution_count": null,
   "metadata": {
    "collapsed": true
   },
   "outputs": [],
   "source": [
    "animal_list.append('pig')\n",
    "animal_list"
   ]
  },
  {
   "cell_type": "code",
   "execution_count": null,
   "metadata": {
    "collapsed": true
   },
   "outputs": [],
   "source": [
    "# You can insert into the middle of lists also, \n",
    "# but less efficiently O(n)\n",
    "animal_list.insert(2, 'horse')\n",
    "print(animal_list)"
   ]
  },
  {
   "cell_type": "code",
   "execution_count": null,
   "metadata": {
    "collapsed": true
   },
   "outputs": [],
   "source": [
    "# Removing list elements by value\n",
    "animal_list.remove('cat')\n",
    "print(animal_list)"
   ]
  },
  {
   "cell_type": "code",
   "execution_count": null,
   "metadata": {
    "collapsed": true
   },
   "outputs": [],
   "source": [
    "# Removing list elements that are not present: raises exception ValueError\n",
    "animal_list.remove('gopher')\n",
    "print(animal_list)"
   ]
  },
  {
   "cell_type": "code",
   "execution_count": null,
   "metadata": {
    "collapsed": true
   },
   "outputs": [],
   "source": [
    "# Concatenating lists using the addition (+) operator\n",
    "print(animal_list)\n",
    "animal_list = ['bat'] + animal_list\n",
    "print(animal_list)\n",
    "animal_list += ['dingo']\n",
    "print(animal_list)"
   ]
  },
  {
   "cell_type": "markdown",
   "metadata": {},
   "source": [
    "A common task with, say, a list of strings of dates is to extract the specific date information from each date into numeric lists of months, days, and years. Notice these dates are ambiguous; it is not obvious whether they are encoded as `DD/MM/YYYY` or as `MM/DD/YYYY` (which is why ISO standard dates are `YYYY-MM-DD` unambiguously)."
   ]
  },
  {
   "cell_type": "code",
   "execution_count": null,
   "metadata": {
    "collapsed": true
   },
   "outputs": [],
   "source": [
    "# Decompose elements into parallel lists\n",
    "dates = [\"09/05/1984\", \"05/04/1999\", \"01/02/1921\"]\n",
    "months, days, years = [], [], []\n",
    "for date in dates:\n",
    "    mm, dd, yyyy = date.split('/') # Use tuple-unpacking to extract substrings\n",
    "    months.append(int(mm))\n",
    "    days.append(int(dd))\n",
    "    years.append(int(yyyy))\n",
    "    print('months=%s, days=%s, years=%s' % (months, days, years))"
   ]
  },
  {
   "cell_type": "markdown",
   "metadata": {},
   "source": [
    "Just assigning a list to a new name still points that name to the same list object.  Hence changing the list under one name also changes what the other name points to.\n",
    "\n",
    "To make an actual copy of a list:\n",
    "* Use the `list.copy()` method or\n",
    "* Take a slice of the entire list\n",
    "\n",
    "To make a *deep copy*, you can use the `copy` modules `deepcopy()` function.  The difference here is that a list might contain inside it more lists (or other mutable objects, and a *shallow* copy still contains references to those).  For lists of immutable objects—like strings and numbers—deep versus shallow makes no difference."
   ]
  },
  {
   "cell_type": "code",
   "execution_count": null,
   "metadata": {
    "collapsed": true
   },
   "outputs": [],
   "source": [
    "print(animal_list)\n",
    "animals2 = animal_list\n",
    "animals2[3] = 'donkey'\n",
    "print(animal_list)"
   ]
  },
  {
   "cell_type": "code",
   "execution_count": null,
   "metadata": {
    "collapsed": true
   },
   "outputs": [],
   "source": [
    "backup = animal_list[:]   # Same result as `animal_list.copy()`\n",
    "print('Initially: animal_list=%s' % animal_list)\n",
    "print('Popped value:', backup.pop(0))\n",
    "print('After pop: backup=%s' % backup)\n",
    "print('After pop: animal_list=%s' % animal_list)"
   ]
  },
  {
   "cell_type": "code",
   "execution_count": null,
   "metadata": {
    "collapsed": true
   },
   "outputs": [],
   "source": [
    "list_of_lists = [[1,2,3], [4,5,6], [7,8,9]]\n",
    "list_of_lists"
   ]
  },
  {
   "cell_type": "code",
   "execution_count": null,
   "metadata": {
    "collapsed": true
   },
   "outputs": [],
   "source": [
    "# Oops! We still changed original after modifying copying\n",
    "lol2 = list_of_lists.copy()\n",
    "lol2[1].append(55)\n",
    "lol2.append([11, 12, 13])\n",
    "print(\"Original:    \", list_of_lists)\n",
    "print(\"Shallow copy:\", lol2)"
   ]
  },
  {
   "cell_type": "code",
   "execution_count": null,
   "metadata": {
    "collapsed": true
   },
   "outputs": [],
   "source": [
    "from copy import deepcopy\n",
    "list_of_lists = [[1,2,3], [4,5,6], [7,8,9]]\n",
    "lol3 = deepcopy(list_of_lists)\n",
    "lol3[1].extend([55, 66, 77])\n",
    "print(\"Original: \", list_of_lists)\n",
    "print(\"Deep copy:\", lol3)"
   ]
  },
  {
   "cell_type": "markdown",
   "metadata": {},
   "source": [
    "Pay attention to the distinctions between the method `list.reverse()` and the builtin `reversed` function. The same concern applies when using the method `list.sort()` versus the builtin `sorted` function.\n",
    "\n",
    "* The output from `reversed` and `sorted` is a *reverse iterator* object. This object evaluates the reverse sequence in a *lazy* manner; that is, elements are not computed until needed. *Lazy evaluation* is useful in the event that the sequence required has more elements than the memory can easily accommodate."
   ]
  },
  {
   "cell_type": "code",
   "execution_count": null,
   "metadata": {
    "collapsed": true
   },
   "outputs": [],
   "source": [
    "# Reversing (by mutation)\n",
    "animal_list.reverse()\n",
    "print(animal_list)"
   ]
  },
  {
   "cell_type": "code",
   "execution_count": null,
   "metadata": {
    "collapsed": true
   },
   "outputs": [],
   "source": [
    "# Reversing (and returning result)\n",
    "reverse_animal_list = reversed(animal_list)\n",
    "print(animal_list)\n",
    "print(reverse_animal_list)"
   ]
  },
  {
   "cell_type": "code",
   "execution_count": null,
   "metadata": {
    "collapsed": true
   },
   "outputs": [],
   "source": [
    "# That was strange! Python 3 is often \"lazy\" and doesn't \n",
    "# compute something until needed\n",
    "# Cast iterable to list to make printing explict\n",
    "print(list(reverse_animal_list))"
   ]
  },
  {
   "cell_type": "code",
   "execution_count": null,
   "metadata": {
    "collapsed": true
   },
   "outputs": [],
   "source": [
    "# Pretend `animal_list` is a billion item list (where a copy would eat memory)\n",
    "reverse_animal_list = reversed(animal_list)  \n",
    "for item in reverse_animal_list:\n",
    "    print(item)"
   ]
  },
  {
   "cell_type": "code",
   "execution_count": null,
   "metadata": {
    "collapsed": true
   },
   "outputs": [],
   "source": [
    "# Sorting (by mutation, in-place)\n",
    "animals = animal_list[:]\n",
    "animals.sort()\n",
    "print(animal_list)\n",
    "print(animals)"
   ]
  },
  {
   "cell_type": "code",
   "execution_count": null,
   "metadata": {
    "collapsed": true
   },
   "outputs": [],
   "source": [
    "# Another gotcha! Not all elements can be compared to be sorted\n",
    "animals.insert(2, None)\n",
    "print(animals)\n",
    "animals.sort()\n",
    "print(animals)"
   ]
  },
  {
   "cell_type": "code",
   "execution_count": null,
   "metadata": {
    "collapsed": true
   },
   "outputs": [],
   "source": [
    "# We can use a custom sort key function\n",
    "def my_key(x):\n",
    "    return \"\" if x is None else x\n",
    "    \n",
    "animals.sort(key=my_key)\n",
    "animals"
   ]
  },
  {
   "cell_type": "code",
   "execution_count": null,
   "metadata": {
    "collapsed": true
   },
   "outputs": [],
   "source": [
    "# But it still won't sort on *everything*\n",
    "animals.append(1+1j)\n",
    "animals.sort(key=my_key)"
   ]
  },
  {
   "cell_type": "markdown",
   "metadata": {},
   "source": [
    "### Iteration over a collection"
   ]
  },
  {
   "cell_type": "markdown",
   "metadata": {},
   "source": [
    "Notwithstanding the many cool things we can do with lists by applying methods, calling functions, indexing and slicing, the most common idiom for working with lists is to loop over them.  In fact, this idiom is extremely common for working with many Python objects.  \n",
    "\n",
    "There are only two looping constructs in Python, `for` and `while`, and the former is far more common than the latter."
   ]
  },
  {
   "cell_type": "code",
   "execution_count": 54,
   "metadata": {},
   "outputs": [
    {
     "name": "stdout",
     "output_type": "stream",
     "text": [
      "rene DESCARTES\n",
      "sophie GERMAIN\n",
      "leonhard EULER\n",
      "ada LOVELACE\n",
      "isaac NEWTON\n",
      "georg CANTOR\n",
      "thomas BAYES\n"
     ]
    }
   ],
   "source": [
    "# Loop over a collection of \"similar\" items\n",
    "class OddThing(object):\n",
    "    def split(self):\n",
    "        return \"Thomas\", \"Bayes\"\n",
    "    \n",
    "name_list = [\"Rene Descartes\", \"Marie Sophie Germain\", \"Leonhard Euler\", \n",
    "             \"Ada Lovelace\", \"Isaac Newton\", \"Georg Cantor\", OddThing()]\n",
    "for name in name_list:\n",
    "    *first, last = name.split()\n",
    "    print(first[-1].lower(), last.upper())"
   ]
  },
  {
   "cell_type": "markdown",
   "metadata": {},
   "source": [
    "If you come from working in some other languages, you may be unduly tempted to think about the index positions of items in a list.  You *can* \"write C in Python.\"  And you can \"write FORTRAN in Python.\"  And you can \"write Perl in Python.\"  *Ad nauseam*.  Generally it's best to avoid doing these things."
   ]
  },
  {
   "cell_type": "code",
   "execution_count": 57,
   "metadata": {},
   "outputs": [
    {
     "name": "stdout",
     "output_type": "stream",
     "text": [
      "0 Rene Descartes\n",
      "1 Marie Sophie Germain\n",
      "2 Leonhard Euler\n",
      "3 Ada Lovelace\n",
      "4 Isaac Newton\n",
      "5 Georg Cantor\n",
      "The value of count is 4\n"
     ]
    }
   ],
   "source": [
    "# A C programming veteran's first Python loop using explicit index\n",
    "name_list = [\"Rene Descartes\", \"Marie Sophie Germain\", \"Leonhard Euler\", \n",
    "             \"Ada Lovelace\", \"Isaac Newton\", \"Georg Cantor\"]\n",
    "count = 0\n",
    "for k in range(len(name_list)):\n",
    "    print(k, name_list[k])\n",
    "    if ('r' in name_list[k]):\n",
    "        count += 1 # equivalent to count = count + 1\n",
    "print(\"The value of count is %d\" % count)"
   ]
  },
  {
   "cell_type": "markdown",
   "metadata": {},
   "source": [
    "While looping over the indices of a collection obviously *does* work, as in the prior example, it is not *Pythonic* to do so. In Python, we like to think about collections themselves, and only rarely about how we index into them. The *Pythonic* style is to loop over the *elements* of the collection *themselves* (i.e., construct a meaningful identifier describing the entity we actually want to work with). In this case, it is the *names* in `name_list` so let's use the identifier `name` (which is much more informative than the identifier `k` as a loop index)."
   ]
  },
  {
   "cell_type": "code",
   "execution_count": 60,
   "metadata": {},
   "outputs": [
    {
     "name": "stdout",
     "output_type": "stream",
     "text": [
      "Rene Descartes\n",
      "Marie Sophie Germain\n",
      "Leonhard Euler\n",
      "Ada Lovelace\n",
      "Isaac Newton\n",
      "Georg Cantor\n",
      "The value of count is 4\n"
     ]
    }
   ],
   "source": [
    "# \"Pythonic\" loop without explicit index\n",
    "name_list = [\"Rene Descartes\", \"Marie Sophie Germain\", \"Leonhard Euler\", \n",
    "             \"Ada Lovelace\", \"Isaac Newton\", \"Georg Cantor\"]\n",
    "count = 0\n",
    "for name in name_list:\n",
    "    print(name)\n",
    "    count += 'r' in name\n",
    "print(\"The value of count is %d\" % count)"
   ]
  },
  {
   "cell_type": "markdown",
   "metadata": {},
   "source": [
    "An even more Pythonic implementation of a `for` loop is to use a *list comprehension*. Here is an example, but we'll see more later."
   ]
  },
  {
   "cell_type": "code",
   "execution_count": 58,
   "metadata": {},
   "outputs": [
    {
     "data": {
      "text/plain": [
       "['R', 'M', 'L', 'A', 'I', 'G']"
      ]
     },
     "execution_count": 58,
     "metadata": {},
     "output_type": "execute_result"
    }
   ],
   "source": [
    "# Returns list containing first characters of each word in the list mylist\n",
    "[name[0] for name in name_list]"
   ]
  },
  {
   "cell_type": "code",
   "execution_count": 59,
   "metadata": {},
   "outputs": [
    {
     "data": {
      "text/plain": [
       "['Rene Descartes', 'Marie Sophie Germain', 'Leonhard Euler', 'Georg Cantor']"
      ]
     },
     "execution_count": 59,
     "metadata": {},
     "output_type": "execute_result"
    }
   ],
   "source": [
    "[name for name in name_list if 'r' in name] # List of \"names with r\" counted above"
   ]
  },
  {
   "cell_type": "markdown",
   "metadata": {},
   "source": [
    "For occasions where  we want to have access to both the list element and it's index, we can use the built-in function `enumerate`. This function takes an iterable sequence and returns an iterable object that returns tuples comprising the original sequence elements and their corresponding indices. This *lazy evaluation* is useful in the event that the input sequence has more elements than the memory can easily accommodate."
   ]
  },
  {
   "cell_type": "code",
   "execution_count": 61,
   "metadata": {},
   "outputs": [
    {
     "name": "stdout",
     "output_type": "stream",
     "text": [
      "(0) Rene Descartes\n",
      "(1) Marie Sophie Germain\n",
      "(2) Leonhard Euler\n",
      "(3) Ada Lovelace\n",
      "(4) Isaac Newton\n",
      "(5) Georg Cantor\n"
     ]
    }
   ],
   "source": [
    "# Sometimes we genuinely do want both an index and an item\n",
    "for k, name in enumerate(name_list):\n",
    "    print(\"(%d) %s\" % (k, name))"
   ]
  },
  {
   "cell_type": "markdown",
   "metadata": {},
   "source": [
    "## `dict` (dictionary) type"
   ]
  },
  {
   "cell_type": "markdown",
   "metadata": {},
   "source": [
    "The `dict` (or *dictionary*) type is one of the most interesting data structures builtin to Python. As a motivating example, suppose you want to keep track of a group of stocks purchased. You might store the stocks symbols in list, the number of shares in another list, the price in another list, and so on."
   ]
  },
  {
   "cell_type": "code",
   "execution_count": null,
   "metadata": {
    "collapsed": true
   },
   "outputs": [],
   "source": [
    "symbol = ['GOOG', 'AAPL', 'MSFT', 'YHOO']\n",
    "shares = [267, 349, 123, 181]\n",
    "price = [396.85,  545.79, 914.49, 169.67]\n",
    "for k in range(4):\n",
    "    value = shares[k] * price[k]\n",
    "    print('The value of %d %s shares is $%10.2f.' % (shares[k], symbol[k], value))"
   ]
  },
  {
   "cell_type": "markdown",
   "metadata": {},
   "source": [
    "The problem with the preceding code is that its correct functioning depends on the lists all being aligned properly. If another stock symbol is inserted into the list `symbol`, the corresponding number of stocks and the price need to be inserted into the lists `shares` and `price` respectively in the same location. A better data structure to represent the problem would couple properties of each stock more closely.\n",
    "\n",
    "This is what dictionaries do. A dictionary is an associative array (hash table) that gives `O(1)` lookup and insertion of elements, but does not have any inherent order to it. A dictionary maps zero or more (immutable) *keys* to (possibly mutable) *values*.  Dictionaries are mutable, and keys within them can be added, deleted, or their values modified.\n",
    "\n",
    "Here is what the code above would look like using a list of dictionaries."
   ]
  },
  {
   "cell_type": "code",
   "execution_count": null,
   "metadata": {
    "collapsed": true
   },
   "outputs": [],
   "source": [
    "stocks = [ {'symbol':'GOOG', 'shares':267, 'price':396.85},\n",
    "           {'symbol':'AAPL', 'shares':349, 'price':549.79},\n",
    "           {'symbol':'MSFT', 'shares':123, 'price':914.49},\n",
    "           {'symbol':'YHOO', 'shares':181, 'price':169.67}\n",
    "         ]\n",
    "for stock in stocks:\n",
    "    value = stock['shares'] * stock['price']\n",
    "    print('The value of %d %s shares is $%10.2f.' % (\n",
    "                        stock['shares'], stock['symbol'], value))"
   ]
  },
  {
   "cell_type": "markdown",
   "metadata": {},
   "source": [
    "* Each stock is represented by its own *dictionary* in the list of dictionaries. Observe how the loop is closer to natural language and that the data for each stock is coupled more closely in its own dictionary.\n",
    "* A `dict` is delimited by braces `{}` with a comma-separated sequence of *`key: value`* pairs.\n",
    "* The *keys* of the dictionary are used to access the values stored within. The idiom resembles indexing with strings, lists, and tuples, except that the indices here are strings."
   ]
  },
  {
   "cell_type": "code",
   "execution_count": null,
   "metadata": {
    "collapsed": true
   },
   "outputs": [],
   "source": [
    "empty_dict = {}\n",
    "print('empty_dict has type %s.' % type(empty_dict))"
   ]
  },
  {
   "cell_type": "code",
   "execution_count": null,
   "metadata": {
    "collapsed": true
   },
   "outputs": [],
   "source": [
    "goog = {'symbol': 'GOOG', 'shares': 267, 'price': 396.85}\n",
    "print('The dict goog:', goog)\n",
    "print(goog['symbol'])"
   ]
  },
  {
   "cell_type": "code",
   "execution_count": null,
   "metadata": {
    "collapsed": true
   },
   "outputs": [],
   "source": [
    "# Iterating over a dictionary (keys)\n",
    "for key in goog:\n",
    "    print(key, goog[key])"
   ]
  },
  {
   "cell_type": "markdown",
   "metadata": {},
   "source": [
    "Dictionaries have several useful methods.\n",
    "\n",
    "| | | | |\n",
    " :-: | :-: | :-: | :-: | :-:\n",
    "`clear` | `copy` | `fromkeys` | `get` | `items` \n",
    "`keys` | `pop` | `popitem` | `setdefault` | `update`\n",
    "\n",
    "* The `.get()` method is an alias for indexing with brackets, i.e., `goog_stocks[key]==goog_stocks.get(key)`.  However, `dict.get()` will return a value (by default `None` if the key does not exist, whereas indexing will raise a `KeyError` exception.\n",
    "* The `.keys()` and `.items()` methods return iterable sequences.\n",
    "* Looping over a `dict` `D` is equivalent to looping over `D.keys()`\n",
    "* Dictionaries themselves are mutable, but the *keys* of a `dict` *must* be immutable (e.g., `str` or `tuple`). The values associated with each key may be *mutable* or *immutable*."
   ]
  },
  {
   "cell_type": "code",
   "execution_count": null,
   "metadata": {
    "collapsed": true
   },
   "outputs": [],
   "source": [
    "for key in goog:  # Equivalent to \"for key in goog_stocks.keys()\"\n",
    "    print(key)"
   ]
  },
  {
   "cell_type": "code",
   "execution_count": null,
   "metadata": {
    "collapsed": true
   },
   "outputs": [],
   "source": [
    "goog['acquired']"
   ]
  },
  {
   "cell_type": "code",
   "execution_count": null,
   "metadata": {
    "collapsed": true
   },
   "outputs": [],
   "source": [
    "goog.get('acquired', '1980-01-01')  # Return a default if not in dict"
   ]
  },
  {
   "cell_type": "code",
   "execution_count": null,
   "metadata": {
    "collapsed": true
   },
   "outputs": [],
   "source": [
    "print(goog.get('shares', 99))\n",
    "print(goog['shares'])"
   ]
  },
  {
   "cell_type": "code",
   "execution_count": null,
   "metadata": {
    "collapsed": true
   },
   "outputs": [],
   "source": [
    "print('Before: %s' % goog)\n",
    "goog['broker'] = 'Sergey Brin'    # Modifying the dict on the fly\n",
    "print('After adding broker:\\n\\t%s' % goog)\n",
    "goog['price'] = 452.32\n",
    "print('After price increases:\\n\\t%s' % goog)"
   ]
  },
  {
   "cell_type": "code",
   "execution_count": null,
   "metadata": {
    "collapsed": true
   },
   "outputs": [],
   "source": [
    "# Dictionaries have a few useful methods\n",
    "print('Before: %s' % goog)\n",
    "del goog['broker']\n",
    "print('After removing broker:\\n\\t%s' % goog)"
   ]
  },
  {
   "cell_type": "code",
   "execution_count": null,
   "metadata": {
    "collapsed": true
   },
   "outputs": [],
   "source": [
    "# The 'update' method uses a dict to modify key-value pairs in-place\n",
    "goog.update({'shares':300, 'price':540.12, 'hometown':'Mountain View'})\n",
    "print('After updating in-place broker:\\n\\t%s' % goog)"
   ]
  },
  {
   "cell_type": "code",
   "execution_count": null,
   "metadata": {
    "collapsed": true
   },
   "outputs": [],
   "source": [
    "'shares' in goog"
   ]
  },
  {
   "cell_type": "markdown",
   "metadata": {},
   "source": [
    "## `set` type"
   ]
  },
  {
   "cell_type": "markdown",
   "metadata": {},
   "source": [
    "Sets are much like dictionaries that lack values, but only have keys.  In fact, for many years, in very old versions of Python, a standard idiom was to use dictionaries as sets, but set all the values to `None`.  Sets allow a few standard set-theoretic operations (intersection, union, subset, etc)."
   ]
  },
  {
   "cell_type": "code",
   "execution_count": null,
   "metadata": {
    "collapsed": true
   },
   "outputs": [],
   "source": [
    "instructors = {\"Ben Zaitlen\", \"Christine Doig\"}\n",
    "instructors.add(\"David Mertz\")\n",
    "print(instructors)\n",
    "instructors.add(\"Dhavide Aruliah\")\n",
    "instructors"
   ]
  },
  {
   "cell_type": "code",
   "execution_count": null,
   "metadata": {
    "collapsed": true
   },
   "outputs": [],
   "source": [
    "list_of_Ds = [\"David Mertz\", \"Christine Doig\", \"John Doe\"]\n",
    "names_with_D = set(list_of_Ds)\n",
    "names_with_D.add(\"Dhavide Aruliah\")\n",
    "names_with_D | instructors    # Union of sets"
   ]
  },
  {
   "cell_type": "code",
   "execution_count": null,
   "metadata": {
    "collapsed": true
   },
   "outputs": [],
   "source": [
    "names_with_D & instructors    # Intersection of sets"
   ]
  },
  {
   "cell_type": "code",
   "execution_count": null,
   "metadata": {
    "collapsed": true
   },
   "outputs": [],
   "source": [
    "names_with_D ^ instructors    # Symmetric difference"
   ]
  },
  {
   "cell_type": "code",
   "execution_count": null,
   "metadata": {
    "collapsed": true
   },
   "outputs": [],
   "source": [
    "names_with_D - instructors    # Difference of sets"
   ]
  },
  {
   "cell_type": "code",
   "execution_count": null,
   "metadata": {
    "collapsed": true
   },
   "outputs": [],
   "source": [
    "names_with_D <= instructors   # Test for improper subset"
   ]
  },
  {
   "cell_type": "code",
   "execution_count": null,
   "metadata": {
    "collapsed": true
   },
   "outputs": [],
   "source": [
    "{'Ben Zaitlen', 'Christine Doig'} < instructors   # Test from proper subsect"
   ]
  },
  {
   "cell_type": "code",
   "execution_count": null,
   "metadata": {
    "collapsed": true
   },
   "outputs": [],
   "source": [
    "names_with_D >= {\"John Doe\", \"David Mertz\"}  # Test for improper superset"
   ]
  },
  {
   "cell_type": "code",
   "execution_count": null,
   "metadata": {
    "collapsed": true
   },
   "outputs": [],
   "source": [
    "\"John Doe\" in names_with_D    # Membership in set"
   ]
  },
  {
   "cell_type": "code",
   "execution_count": null,
   "metadata": {
    "collapsed": true
   },
   "outputs": [],
   "source": [
    "# No effect to add something a second time (or Nth time)\n",
    "names_with_D.add('David Mertz')\n",
    "names_with_D"
   ]
  },
  {
   "cell_type": "code",
   "execution_count": null,
   "metadata": {
    "collapsed": true
   },
   "outputs": [],
   "source": [
    "names_with_D.remove('David Mertz')\n",
    "names_with_D"
   ]
  },
  {
   "cell_type": "code",
   "execution_count": null,
   "metadata": {
    "collapsed": true
   },
   "outputs": [],
   "source": [
    "{x for x in (instructors | names_with_D) if 'Do' in x}"
   ]
  },
  {
   "cell_type": "markdown",
   "metadata": {},
   "source": [
    "# Data types from the Python Standard Library"
   ]
  },
  {
   "cell_type": "markdown",
   "metadata": {},
   "source": [
    "There are many other Python builtin data types and classes we could study in more detail (e.g., `byte`, `bytearray`, `iterator`, etc.). Among these are:\n",
    "* `datetime`: a module for manipulating calendar dates and times;\n",
    "* `collections`: a module extending standard builtin data collections (`list`, `dict`, etc.);\n",
    "* `decimal`: a module for manipulating arbitrary precision decimal (i.e., base-10) numbers; and\n",
    "* `fraction`: a module for manipulating rational numbers (i.e., fractions)."
   ]
  },
  {
   "cell_type": "markdown",
   "metadata": {},
   "source": [
    "## `datetime` module"
   ]
  },
  {
   "cell_type": "markdown",
   "metadata": {},
   "source": [
    "Computations involving dates are required frequently (e.g., calculating the number of days, hours, and minutes elapsed between 23:52 on Feb. 13, 2012 and 05:30 on Sept. 17, 2014). When we start to consider adjustments for leap years, time zones, and Daylight Savings Time, these calculations become quite involved. Rather than having to construct routines for date calculations from scratch, Python programmers can use routines from the `datetime` module to answer date-related questions. Of course, it is necessary to use an `import` statement to bring the relevant data structures and routines into the working namespace.\n",
    "\n",
    "* The `datetime` module provides routines for formatting dates for output as well as routines for computation with dates.\n",
    "* Complications in working with precise dates/times include time zones, leap seconds, and daylight-savings time corrections. The objects of the `datetime` module are classified as *naïve* or *aware* according to how well they are able to resolve times accurately with regard to such complications. There is a lot of subtlety involved in getting these details correct; suffice it to say that getting `datetime` computations accurate to within a day is likely possible, but getting accuracy to within a second, a minute, or even an hour is not guaranteed.\n",
    "* The complications above notwithstanding, the most relevant data types from the `datetime` module are `datetime.date` for representing dates, `datetime.time` for representing times, `datetime.datetime` for representing both dates & times, and `datetime.timedelta` for representing time intervals (i.e., time elapsed between two specific `datetime` events).\n",
    "* Useful functions include `datetime.date.today()` to return the current date, and `datetime.date.isoformat()`\n",
    "* More details are in the [`datetime` module documentation](https://docs.python.org/3/library/datetime.html)\n",
    "* At heart, naïve datetime arithmetic is simply \"mixed radix\" measures of seconds.  I.e. it combines base 60, base 24, and base 365 (and base 366 sometimes), in the way it displays and recognizes numbers."
   ]
  },
  {
   "cell_type": "code",
   "execution_count": null,
   "metadata": {
    "collapsed": true
   },
   "outputs": [],
   "source": [
    "import datetime as dt"
   ]
  },
  {
   "cell_type": "code",
   "execution_count": null,
   "metadata": {
    "collapsed": true
   },
   "outputs": [],
   "source": [
    "today = dt.date.today()\n",
    "# datetime.date.isoformat() returns date formatted in ISO format\n",
    "print('Today is %s' % today.isoformat()) \n",
    "# datetime.date.strftime returns date formatted as described by a format string\n",
    "print('Today is %s' % today.strftime('%A, %B %d, %Y')) # Details in documentation"
   ]
  },
  {
   "cell_type": "code",
   "execution_count": null,
   "metadata": {
    "collapsed": true
   },
   "outputs": [],
   "source": [
    "earlier = dt.datetime(2012,2,13,23,52) # 23:52 on Feb. 13, 2012\n",
    "later = dt.datetime(2014,9,17,5,30) # 05:30 on Sept. 17, 2014\n",
    "print('Earlier date = %s' % earlier.strftime('%A, %B %d, %Y at %H:%M'))\n",
    "print('Later   date = %s' %   later.strftime('%A, %B %d, %Y at %H:%M'))"
   ]
  },
  {
   "cell_type": "code",
   "execution_count": null,
   "metadata": {
    "collapsed": true
   },
   "outputs": [],
   "source": [
    "time_elapsed = later - earlier\n",
    "print('The time elapsed is %s' % time_elapsed)"
   ]
  },
  {
   "cell_type": "markdown",
   "metadata": {},
   "source": [
    "## `collections` module"
   ]
  },
  {
   "cell_type": "markdown",
   "metadata": {},
   "source": [
    "The `collections` module extends the base Python data collection types with a few useful variations. Three particular extensions are:\n",
    "\n",
    "* `collections.namedtuple`: a function for creating `tuple`-type objects with named fields\n",
    "* `collections.OrderedDict`: a subclass of `dict` objects with ordered keys\n",
    "* `collections.Counter`: a subclass of `dict` that works like a \"bad\" or \"multiset\" (it's good for counting things, as the name indicates).\n",
    "* More details are available from the [`collections` module documentation](https://docs.python.org/3/library/collections.html)\n",
    "\n",
    "Some other nice collection types also include `collections.deque`, `collections.defaultdict` and `queue.Queue` (also `queue.LifoQueue` and `queue.PriorityQueue`)."
   ]
  },
  {
   "cell_type": "markdown",
   "metadata": {},
   "source": [
    "### `collections.namedtuple`"
   ]
  },
  {
   "cell_type": "markdown",
   "metadata": {},
   "source": [
    "A `namedtuple` is worth considering very often for clean code.  It requires no extra memory per `tuple`, but allows us to *name* each index position in a `tuple`. This provides for better documentation of our intent when using tuples."
   ]
  },
  {
   "cell_type": "code",
   "execution_count": null,
   "metadata": {
    "collapsed": true
   },
   "outputs": [],
   "source": [
    "from collections import namedtuple"
   ]
  },
  {
   "cell_type": "code",
   "execution_count": null,
   "metadata": {
    "collapsed": true
   },
   "outputs": [],
   "source": [
    "# We declare a new data type with the identifier \"Account\"\n",
    "# As well as indexing tuple entries by position, we can use the labels\n",
    "# \"accountID\", \"firstname\", & \"lastname\" to retrieve entries from a namedtuple\n",
    "account_fields = [\"accountID\", \"firstname\", \"lastname\"]\n",
    "Account = namedtuple('Account', account_fields)\n",
    "newton = Account('123456789', 'Isaac', 'Newton')\n",
    "leibnitz = Account('987654321', 'Gottfried', 'Leibnitz')\n",
    "print(newton)\n",
    "print(leibnitz)"
   ]
  },
  {
   "cell_type": "code",
   "execution_count": null,
   "metadata": {
    "collapsed": true
   },
   "outputs": [],
   "source": [
    "print(leibnitz[1])\n",
    "print(leibnitz.firstname) # Same as above\n",
    "print(newton.accountID)"
   ]
  },
  {
   "cell_type": "code",
   "execution_count": null,
   "metadata": {
    "collapsed": true
   },
   "outputs": [],
   "source": [
    "import datetime as dt # We'll use datetime to represent dates\n",
    "\n",
    "# We declare a new data type with the identifier \"Stock\"\n",
    "# As well as indexing tuple entries by position, we can use the labels\n",
    "# \"symbol\", \"shares\", \"price\", & \"acquired\" to retrieve entries from a namedtuple\n",
    "# Space separated field names\n",
    "Stock = namedtuple(\"Stock\", \"symbol shares price acquired\") "
   ]
  },
  {
   "cell_type": "code",
   "execution_count": null,
   "metadata": {
    "collapsed": true
   },
   "outputs": [],
   "source": [
    "# Having defined the namedtuple data-type Stock, we create a value of type Stock\n",
    "goog = Stock('GOOG', 100, 538.22, dt.date(2015, 1, 15))\n",
    "print(goog)\n",
    "print(goog[2])     # We can extract values from the namedtuple using tuple position\n",
    "print(goog.price)  # ... or we can use an attribute with the appropriate name."
   ]
  },
  {
   "cell_type": "code",
   "execution_count": null,
   "metadata": {
    "collapsed": true
   },
   "outputs": [],
   "source": [
    "ibm = Stock('IBM', 500, 172.68, dt.date(1952, 6, 1))\n",
    "aapl = Stock ('AAPL', 250, 127.62, dt.date(1999, 3, 14))\n",
    "print(ibm)\n",
    "print(aapl)\n",
    "print(ibm.symbol)"
   ]
  },
  {
   "cell_type": "code",
   "execution_count": null,
   "metadata": {
    "collapsed": true
   },
   "outputs": [],
   "source": [
    "mystocks = [goog, ibm, aapl] # Construct a list of the stocks\n",
    "mystocks"
   ]
  },
  {
   "cell_type": "code",
   "execution_count": null,
   "metadata": {
    "collapsed": true
   },
   "outputs": [],
   "source": [
    "# This is a way to implement the asset computation in a readable way\n",
    "asset_value = 0\n",
    "for stock in mystocks:\n",
    "    asset_value += stock.shares * stock.price\n",
    "print(asset_value)"
   ]
  },
  {
   "cell_type": "code",
   "execution_count": null,
   "metadata": {
    "collapsed": true
   },
   "outputs": [],
   "source": [
    "sum(stock.shares * stock.price for stock in mystocks)"
   ]
  },
  {
   "cell_type": "markdown",
   "metadata": {},
   "source": [
    "### `collections.OrderedDict`"
   ]
  },
  {
   "cell_type": "markdown",
   "metadata": {},
   "source": [
    "Generic `dict` objects do not store the keys in any particular order; the specific way the keys are ordered are implementation-dependent and may vary. The `OrderedDict` from the `collections` module is a special data type in the standard Python library acts as a dictionary but also retains the insertion order of keys within the dictionary. If it is important to maintain a particular ordering for the keys (which may be useful when looping over the keys), an `OrderedDict` permits a fixed ordering of the `dict` keys."
   ]
  },
  {
   "cell_type": "code",
   "execution_count": null,
   "metadata": {
    "collapsed": true
   },
   "outputs": [],
   "source": [
    "from collections import OrderedDict\n",
    "\n",
    "# Define a few key-value pairs as a list of tuples\n",
    "key_value_pairs = [('broker','Roberto Cruz'), \n",
    "                   ('price',521.78),\n",
    "                   ('shares',100), \n",
    "                   ('symbol','GOOG')]\n",
    "plain_dict   = dict(key_value_pairs)\n",
    "ordered_dict = OrderedDict(key_value_pairs)"
   ]
  },
  {
   "cell_type": "code",
   "execution_count": null,
   "metadata": {
    "collapsed": true
   },
   "outputs": [],
   "source": [
    "print(list(plain_dict.keys()))  # No guarantee about order\n",
    "print(plain_dict)"
   ]
  },
  {
   "cell_type": "code",
   "execution_count": null,
   "metadata": {
    "collapsed": true
   },
   "outputs": [],
   "source": [
    "print(list(ordered_dict.keys()))   # Keys in specific order of insertion\n",
    "print(ordered_dict)"
   ]
  },
  {
   "cell_type": "code",
   "execution_count": null,
   "metadata": {
    "collapsed": true
   },
   "outputs": [],
   "source": [
    "ordered_dict['symbol']"
   ]
  },
  {
   "cell_type": "code",
   "execution_count": null,
   "metadata": {},
   "outputs": [],
   "source": [
    "ordered_dict['location'] = \"Mountain View\""
   ]
  },
  {
   "cell_type": "code",
   "execution_count": null,
   "metadata": {
    "collapsed": true
   },
   "outputs": [],
   "source": [
    "ordered_dict"
   ]
  },
  {
   "cell_type": "code",
   "execution_count": null,
   "metadata": {
    "collapsed": true
   },
   "outputs": [],
   "source": [
    "del ordered_dict['broker']\n",
    "ordered_dict"
   ]
  },
  {
   "cell_type": "markdown",
   "metadata": {},
   "source": [
    "## `collections.Counter`"
   ]
  },
  {
   "cell_type": "code",
   "execution_count": null,
   "metadata": {},
   "outputs": [],
   "source": [
    "from collections import Counter\n",
    "c = Counter('abracadabra')\n",
    "c.most_common()"
   ]
  },
  {
   "cell_type": "code",
   "execution_count": null,
   "metadata": {},
   "outputs": [],
   "source": [
    "sorted(c)"
   ]
  },
  {
   "cell_type": "code",
   "execution_count": null,
   "metadata": {},
   "outputs": [],
   "source": [
    "c['r']"
   ]
  },
  {
   "cell_type": "code",
   "execution_count": null,
   "metadata": {},
   "outputs": [],
   "source": [
    "c['r'] += 4\n",
    "c['r']"
   ]
  },
  {
   "cell_type": "code",
   "execution_count": null,
   "metadata": {},
   "outputs": [],
   "source": [
    "c['x']"
   ]
  },
  {
   "cell_type": "code",
   "execution_count": null,
   "metadata": {},
   "outputs": [],
   "source": [
    "c.update(\"abracadabra\")\n",
    "c"
   ]
  },
  {
   "cell_type": "code",
   "execution_count": null,
   "metadata": {},
   "outputs": [],
   "source": [
    "from random import randint\n",
    "nums = [randint(1,9) for _ in range(100)]\n",
    "numcount = Counter(nums)\n",
    "numcount.most_common()"
   ]
  },
  {
   "cell_type": "code",
   "execution_count": null,
   "metadata": {},
   "outputs": [],
   "source": [
    "numcount"
   ]
  },
  {
   "cell_type": "code",
   "execution_count": null,
   "metadata": {},
   "outputs": [],
   "source": [
    "numcount.most_common(3)"
   ]
  },
  {
   "cell_type": "code",
   "execution_count": null,
   "metadata": {},
   "outputs": [],
   "source": [
    "numcount.subtract([7,7,7,7])\n",
    "numcount.most_common()"
   ]
  },
  {
   "cell_type": "code",
   "execution_count": null,
   "metadata": {},
   "outputs": [],
   "source": [
    "numcount[8] -= 2\n",
    "numcount.most_common()"
   ]
  },
  {
   "cell_type": "markdown",
   "metadata": {},
   "source": [
    "## `decimal` module"
   ]
  },
  {
   "cell_type": "markdown",
   "metadata": {},
   "source": [
    "The `decimal` module provides fast decimal (i.e., base-10) floating-point arithmetic (by contrast with base-2 arithmetic that is carried out using `float` types).\n",
    "\n",
    "* `decimal` incorporates a base-10 floating-point model (like the one we learn at school).\n",
    "* The `decimal.getcontext()` method permits users to extend the precision of decimal arithmetic.\n",
    "* Generally, extended precision is slower than builtin `float` arithmetic. For large, data-intensive applications, exact decimal arithmetic carries a price.\n",
    "* Decimal numbers that cannot be represented exactly using the `float` type can be expressed exactly using the `decimal.Decimal` type. For instance, with standard `float` values, `1.1 + 2.2` gives `3.3000000000000003` because the number $\\frac{1}{10}=0.1$ requires an infinitely repeating binary bit pattern in its binary representation (hence the finite precision `float` computation necessarily makes minor rounding errors).\n",
    "* However, not all Rational numbers can be represented in Decimal precisely (in fact, only a vanishingly small proportion of them can).  E.g $\\frac{1}{3}$ or $\\frac{2}{7}$ are not expressible exactly as decimals.\n",
    "* Exact (finite) decimal representations can be constructed from strings, e.g., `decimal.Decimal('0.1')`. When computing with these values, typical decimal arithmetic is recovered (within the limits of the precision of the current context).\n",
    "* More information is available at\n",
    "    * [`decimal` module documentation](https://docs.python.org/3/library/decimal.html)\n",
    "    * [IBM General Decimal Arithmetic Specification](http://speleotrove.com/decimal/decarith.html) (Version 1.70&mdash; Apr 2009)"
   ]
  },
  {
   "cell_type": "code",
   "execution_count": null,
   "metadata": {
    "collapsed": true
   },
   "outputs": [],
   "source": [
    "import decimal as dec\n",
    "# Find out \"context\" of decimal arithmetic at present\n",
    "print(dec.getcontext())"
   ]
  },
  {
   "cell_type": "code",
   "execution_count": null,
   "metadata": {
    "collapsed": true
   },
   "outputs": [],
   "source": [
    "# Decimal numbers \n",
    "from decimal import Decimal as D\n",
    "sum_float = 0.1 + 0.1 + 0.1 - 0.3\n",
    "sum_dec = D('0.1') + D('0.1') + D('0.1') - D('0.3')\n",
    "print('The sum 0.1 + 0.1 + 0.1 - 0.3 is %8.2e with regular floats.' % sum_float)\n",
    "print('The sum 0.1 + 0.1 + 0.1 - 0.3 is %s with decimals.' % sum_dec)"
   ]
  },
  {
   "cell_type": "code",
   "execution_count": null,
   "metadata": {
    "collapsed": true
   },
   "outputs": [],
   "source": [
    "# Notice the difference:\n",
    "print(D(.4))    # 'Decimal(0.4)' converts inexact float value to a \"nearby\" Decimal\n",
    "print(D(\".4\"))  # 'Decimal(\"0.4\")' converts a string value to an exact Decimal"
   ]
  },
  {
   "cell_type": "code",
   "execution_count": null,
   "metadata": {
    "collapsed": true
   },
   "outputs": [],
   "source": [
    "dec.getcontext().prec = 16\n",
    "print('The current context is %d digits of precision in decimal arithmetic.'\n",
    "       % dec.getcontext().prec)\n",
    "one, seven = dec.Decimal(1), dec.Decimal(7)\n",
    "print(\"In the current context, 1/7 is %s\" % (one/seven))"
   ]
  },
  {
   "cell_type": "code",
   "execution_count": null,
   "metadata": {
    "collapsed": true
   },
   "outputs": [],
   "source": [
    "dec.getcontext().prec = 50\n",
    "print('The current context is %d digits of precision in decimal arithmetic.'\n",
    "       % dec.getcontext().prec)\n",
    "print(\"In the current context, 1/7 is %s\" % (one/seven))"
   ]
  },
  {
   "cell_type": "code",
   "execution_count": null,
   "metadata": {
    "collapsed": true
   },
   "outputs": [],
   "source": [
    "# Decimal numbers, liked floats, have their own rounding errors\n",
    "one/seven * 7"
   ]
  },
  {
   "cell_type": "code",
   "execution_count": null,
   "metadata": {
    "collapsed": true
   },
   "outputs": [],
   "source": [
    "one/seven * seven"
   ]
  },
  {
   "cell_type": "code",
   "execution_count": null,
   "metadata": {},
   "outputs": [],
   "source": [
    "context = dec.getcontext()\n",
    "context?"
   ]
  },
  {
   "cell_type": "markdown",
   "metadata": {},
   "source": [
    "## `fractions` module"
   ]
  },
  {
   "cell_type": "markdown",
   "metadata": {},
   "source": [
    "The `fractions` module provides support for rational number arithmetic, i.e., exact arithmetic involving ratios of integers.\n",
    "* `fractions.Fraction` values can be constructed from pairs of integers, strings, floats, `decimal.Decimal` types, and other `fractions.Fraction` values).\n",
    "* Observe `fractions.Fraction(1.1)` is not $11/10$ as we would expect. The `float` value for `1.1` is a binary (base-2) approximation of the value $1.1$, so the resulting `fractions.Fraction` value is a nearby approximation.\n",
    "* If the denominator is zero, the `fractions.Fraction` constructor gives a `ZeroDivisionError`.\n",
    "* Generally, exact arithmetic is much slower than builtin `float` arithmetic. For large, data-intensive applications, exact rational arithmetic carries a price.\n",
    "* More information is at [`fraction` module documentation](https://docs.python.org/3.4/library/fractions.html)."
   ]
  },
  {
   "cell_type": "code",
   "execution_count": 62,
   "metadata": {},
   "outputs": [
    {
     "name": "stdout",
     "output_type": "stream",
     "text": [
      "The value of 1.1 as a fraction (cast from a float) is 2476979795053773/2251799813685248.\n"
     ]
    }
   ],
   "source": [
    "from fractions import Fraction\n",
    "value = Fraction(1.1)\n",
    "print('The value of 1.1 as a fraction (cast from a float) is %s.' % value)"
   ]
  },
  {
   "cell_type": "code",
   "execution_count": 63,
   "metadata": {},
   "outputs": [
    {
     "name": "stdout",
     "output_type": "stream",
     "text": [
      "The value of 1.1 as a fraction (cast from integers) is 11/10.\n",
      "The value of 1.1 as a fraction (cast from a string) is 11/10.\n"
     ]
    }
   ],
   "source": [
    "value = Fraction(11,10)\n",
    "print('The value of 1.1 as a fraction (cast from integers) is %s.' % value)\n",
    "value = Fraction(\"1.1\")\n",
    "print('The value of 1.1 as a fraction (cast from a string) is %s.' % value)"
   ]
  },
  {
   "cell_type": "code",
   "execution_count": 64,
   "metadata": {},
   "outputs": [
    {
     "name": "stdout",
     "output_type": "stream",
     "text": [
      "The value of 0.4 as a fraction (cast from a float) is 3602879701896397/9007199254740992.\n",
      "The value of 0.4 as a fraction (cast from a float, limiting the denominator) is 2/5\n"
     ]
    }
   ],
   "source": [
    "a = Fraction(0.4)\n",
    "print('The value of 0.4 as a fraction (cast from a float) is %s.' % a)\n",
    "print('The value of 0.4 as a fraction (cast from a float, limiting the denominator) is %s' \\\n",
    "      % a.limit_denominator(10000000))"
   ]
  },
  {
   "cell_type": "code",
   "execution_count": 66,
   "metadata": {},
   "outputs": [
    {
     "data": {
      "text/plain": [
       "Fraction(1, 3)"
      ]
     },
     "execution_count": 66,
     "metadata": {},
     "output_type": "execute_result"
    }
   ],
   "source": [
    "# Exactly how far to limit denominator is not self-evident\n",
    "a.limit_denominator(4)"
   ]
  },
  {
   "cell_type": "code",
   "execution_count": null,
   "metadata": {
    "collapsed": true
   },
   "outputs": [],
   "source": [
    "# Exact rational arithmetic\n",
    "x = Fraction(3,4)\n",
    "y = Fraction(1,3)\n",
    "print('The value of %s + %s is %s.' % (x, y, x+y))"
   ]
  },
  {
   "cell_type": "code",
   "execution_count": null,
   "metadata": {
    "collapsed": true
   },
   "outputs": [],
   "source": [
    "x.numerator, x.denominator"
   ]
  }
 ],
 "metadata": {
  "kernelspec": {
   "display_name": "Python 3",
   "language": "python",
   "name": "python3"
  },
  "language_info": {
   "codemirror_mode": {
    "name": "ipython",
    "version": 3
   },
   "file_extension": ".py",
   "mimetype": "text/x-python",
   "name": "python",
   "nbconvert_exporter": "python",
   "pygments_lexer": "ipython3",
   "version": "3.7.3"
  }
 },
 "nbformat": 4,
 "nbformat_minor": 1
}
